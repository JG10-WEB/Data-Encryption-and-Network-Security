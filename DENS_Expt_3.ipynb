{
  "nbformat": 4,
  "nbformat_minor": 0,
  "metadata": {
    "colab": {
      "name": "DENS Expt 3.ipynb",
      "provenance": []
    },
    "kernelspec": {
      "name": "python3",
      "display_name": "Python 3"
    },
    "language_info": {
      "name": "python"
    }
  },
  "cells": [
    {
      "cell_type": "markdown",
      "source": [
        "Name: Darshil Dhandhukia\n",
        "\n",
        "Roll No: C010\n",
        "\n",
        "Subject: DENS\n",
        "\n",
        "BTech EXTC\n",
        "\n",
        "Aim: Affine Cipher"
      ],
      "metadata": {
        "id": "s0qF92cQgfg-"
      }
    },
    {
      "cell_type": "code",
      "execution_count": null,
      "metadata": {
        "id": "mzkTVATNfTwj"
      },
      "outputs": [],
      "source": [
        "# the below things needs to be executed for affine cipher\n",
        "# C = (P*k1) + k2\n",
        "# P = (C-k2) * k1 inverse"
      ]
    },
    {
      "cell_type": "code",
      "source": [
        "#Encryption\n",
        "import string\n",
        "symbols = string.ascii_lowercase # uppercase can also be used\n",
        "print(symbols)"
      ],
      "metadata": {
        "colab": {
          "base_uri": "https://localhost:8080/"
        },
        "id": "sj7ZLGYEhG4W",
        "outputId": "01d4fda7-ae37-4953-d69c-78b281b38baa"
      },
      "execution_count": null,
      "outputs": [
        {
          "output_type": "stream",
          "name": "stdout",
          "text": [
            "abcdefghijklmnopqrstuvwxyz\n"
          ]
        }
      ]
    },
    {
      "cell_type": "code",
      "source": [
        "#finding the mod value\n",
        "n = len(symbols)\n",
        "print(n)"
      ],
      "metadata": {
        "colab": {
          "base_uri": "https://localhost:8080/"
        },
        "id": "pHZHrpcmhVSm",
        "outputId": "b7f57509-5be1-4d42-a1f4-6bc0eb932998"
      },
      "execution_count": null,
      "outputs": [
        {
          "output_type": "stream",
          "name": "stdout",
          "text": [
            "26\n"
          ]
        }
      ]
    },
    {
      "cell_type": "code",
      "source": [
        "#now we need to accept the keys from the user.\n",
        "k1 = input(\"Enter key for multiplication:\") #k1 will be in the form of string so we need to convert it to int form\n",
        "k1 = int(k1)\n",
        "k2 = input(\"Enter key for addition: \") #k1 will be in the form of string so wee need to convert it to int form\n",
        "k2 = int(k2)"
      ],
      "metadata": {
        "colab": {
          "base_uri": "https://localhost:8080/"
        },
        "id": "rCzCKPgShmD_",
        "outputId": "32915b5f-3ab9-4a74-b824-8043eedd7571"
      },
      "execution_count": null,
      "outputs": [
        {
          "name": "stdout",
          "output_type": "stream",
          "text": [
            "Enter key for multiplication:5\n",
            "Enter key for addition: 10\n"
          ]
        }
      ]
    },
    {
      "cell_type": "code",
      "source": [
        "#Asking user to input the plaintext that is to be encrypted\n",
        "p = input(\"Enter the plaintext: \")"
      ],
      "metadata": {
        "colab": {
          "base_uri": "https://localhost:8080/"
        },
        "id": "YuR-Q8OfiVlP",
        "outputId": "5bbfbfaf-adfd-4e5a-de01-6a565914e53e"
      },
      "execution_count": null,
      "outputs": [
        {
          "name": "stdout",
          "output_type": "stream",
          "text": [
            "Enter the plaintext: wednesday\n"
          ]
        }
      ]
    },
    {
      "cell_type": "code",
      "source": [
        "encrypt_dict = {}\n",
        "for i in range(n): #n because we have n=26 number of symbols\n",
        "   encrypt_dict[symbols[i]] = symbols[((i * k1) + k2) % n]\n",
        "\n",
        "print(encrypt_dict)"
      ],
      "metadata": {
        "colab": {
          "base_uri": "https://localhost:8080/"
        },
        "id": "L85qRrkRissG",
        "outputId": "06b0f84b-2efb-43b9-b00e-d2678a8d3473"
      },
      "execution_count": null,
      "outputs": [
        {
          "output_type": "stream",
          "name": "stdout",
          "text": [
            "{'a': 'k', 'b': 'p', 'c': 'u', 'd': 'z', 'e': 'e', 'f': 'j', 'g': 'o', 'h': 't', 'i': 'y', 'j': 'd', 'k': 'i', 'l': 'n', 'm': 's', 'n': 'x', 'o': 'c', 'p': 'h', 'q': 'm', 'r': 'r', 's': 'w', 't': 'b', 'u': 'g', 'v': 'l', 'w': 'q', 'x': 'v', 'y': 'a', 'z': 'f'}\n"
          ]
        }
      ]
    },
    {
      "cell_type": "code",
      "source": [
        "#now we will generate the ciphertext\n",
        "c = []\n",
        "for s in p: #p is for plaintext.\n",
        "  if s in symbols:\n",
        "    loca = encrypt_dict[s] #here we are finding the location of the characters.\n",
        "  else:\n",
        "    loca = s\n",
        "  c.append(loca)\n",
        "\n",
        "c = \"\".join(c)\n",
        "print(\"Ciphertext is: \",c)"
      ],
      "metadata": {
        "colab": {
          "base_uri": "https://localhost:8080/"
        },
        "id": "VKqBumEVkPUS",
        "outputId": "25fbc68e-31ea-4289-9a68-141336a4c4e0"
      },
      "execution_count": null,
      "outputs": [
        {
          "output_type": "stream",
          "name": "stdout",
          "text": [
            "Ciphertext is:  qezxewzka\n"
          ]
        }
      ]
    },
    {
      "cell_type": "code",
      "source": [
        "for i in range(1, n+1):\n",
        "  if (i*k1)%n==1: #here whichever number gives answer as 1 is taken.\n",
        "    break  \n",
        "k1_inv = i\n",
        "print(k1_inv)"
      ],
      "metadata": {
        "colab": {
          "base_uri": "https://localhost:8080/"
        },
        "id": "_aUwSgCClkhx",
        "outputId": "00fdbcb9-b697-4039-a23d-1fcbc2e04e64"
      },
      "execution_count": null,
      "outputs": [
        {
          "output_type": "stream",
          "name": "stdout",
          "text": [
            "21\n"
          ]
        }
      ]
    },
    {
      "cell_type": "code",
      "source": [
        "#Decryption\n",
        "decrypt_dict = {}\n",
        "for i in range(n):\n",
        "  decrypt_dict[symbols[i]] = symbols[((i - k2)*k1_inv)%n] #the formula (P = (C-k2) * k1 inverse) is applied here \n",
        "\n",
        "print(decrypt_dict)"
      ],
      "metadata": {
        "colab": {
          "base_uri": "https://localhost:8080/"
        },
        "id": "DFGMwi9CvQo_",
        "outputId": "10bebc1f-d916-4d39-ce0a-0647b8019748"
      },
      "execution_count": null,
      "outputs": [
        {
          "output_type": "stream",
          "name": "stdout",
          "text": [
            "{'a': 'y', 'b': 't', 'c': 'o', 'd': 'j', 'e': 'e', 'f': 'z', 'g': 'u', 'h': 'p', 'i': 'k', 'j': 'f', 'k': 'a', 'l': 'v', 'm': 'q', 'n': 'l', 'o': 'g', 'p': 'b', 'q': 'w', 'r': 'r', 's': 'm', 't': 'h', 'u': 'c', 'v': 'x', 'w': 's', 'x': 'n', 'y': 'i', 'z': 'd'}\n"
          ]
        }
      ]
    },
    {
      "cell_type": "code",
      "source": [
        "decr_cipher = [] #now we are decrypting the ciphertext\n",
        "for s in c:\n",
        "  if s in symbols: #if s in the taken symbols list only then we could decrypt it.\n",
        "    p_dict = decrypt_dict[s] #this will search the character in the list and decrypt it if it is there in the list.\n",
        "  else:\n",
        "    p_dict = s \n",
        "  \n",
        "  decr_cipher.append(p_dict)\n",
        "\n",
        "decr_cipher = \"\".join(decr_cipher)\n",
        "print(\"Decrypted ciphertext using correct keys is: \",decr_cipher)"
      ],
      "metadata": {
        "colab": {
          "base_uri": "https://localhost:8080/"
        },
        "id": "28t_IRpPvXXp",
        "outputId": "3b5f0c3c-2611-4628-fe8c-8f004d4ce012"
      },
      "execution_count": null,
      "outputs": [
        {
          "output_type": "stream",
          "name": "stdout",
          "text": [
            "Decrypted ciphertext using correct keys is:  wednesday\n"
          ]
        }
      ]
    },
    {
      "cell_type": "markdown",
      "source": [
        "Below I have changed the key k2 just to check what will be the decrypted text that we will get. So I hardcoded the value of k2 as 8 and found that the decrypted text is just random characters. So the receiver should have knowledge about both the keys and only then he will be to decrypt the text."
      ],
      "metadata": {
        "id": "Lf8DHAw6xDtI"
      }
    },
    {
      "cell_type": "code",
      "source": [
        "#Decryption\n",
        "decrypt_dict = {}\n",
        "for i in range(n):\n",
        "  decrypt_dict[symbols[i]] = symbols[((i - 8)*k1_inv)%n] #here k2 is hardcoded as 8.\n",
        "\n",
        "print(decrypt_dict) #in the output of this cell we can see that by changing the value of k2 the whole decrypted text dictionary has changed and thus the decrypted will also be different."
      ],
      "metadata": {
        "colab": {
          "base_uri": "https://localhost:8080/"
        },
        "id": "3M0USQw_m6Ep",
        "outputId": "ea711254-ec12-4ec5-c99c-8be0ecf7dfc1"
      },
      "execution_count": null,
      "outputs": [
        {
          "output_type": "stream",
          "name": "stdout",
          "text": [
            "{'a': 'o', 'b': 'j', 'c': 'e', 'd': 'z', 'e': 'u', 'f': 'p', 'g': 'k', 'h': 'f', 'i': 'a', 'j': 'v', 'k': 'q', 'l': 'l', 'm': 'g', 'n': 'b', 'o': 'w', 'p': 'r', 'q': 'm', 'r': 'h', 's': 'c', 't': 'x', 'u': 's', 'v': 'n', 'w': 'i', 'x': 'd', 'y': 'y', 'z': 't'}\n"
          ]
        }
      ]
    },
    {
      "cell_type": "code",
      "source": [
        "decr_cipher = [] #now we are decrypting the ciphertext\n",
        "for s in c:\n",
        "  if s in symbols: #if s in the taken symbols list only then we could decrypt it.\n",
        "    p_dict = decrypt_dict[s] #this will search the character in the list and decrypt it if it is there in the list.\n",
        "  else:\n",
        "    p_dict = s \n",
        "  \n",
        "  decr_cipher.append(p_dict)\n",
        "\n",
        "decr_cipher = \"\".join(decr_cipher)\n",
        "print(\"Decrypted ciphertext using correct keys is: \",decr_cipher)"
      ],
      "metadata": {
        "colab": {
          "base_uri": "https://localhost:8080/"
        },
        "id": "G_tWJASCn2iy",
        "outputId": "eb92616f-7112-4b64-f377-e6701e1bc208"
      },
      "execution_count": null,
      "outputs": [
        {
          "output_type": "stream",
          "name": "stdout",
          "text": [
            "Decrypted ciphertext using correct keys is:  mutduitqo\n"
          ]
        }
      ]
    },
    {
      "cell_type": "markdown",
      "source": [
        "# Conclusion: \n",
        "\n",
        "When the receiver uses the correct pair of keys k1 and k2 he will be able to decrypt it and is able to transmit it. \n",
        "\n",
        "If attacker guesses the cipher text, and if he goes wrong some of the charcaters, then those characeters are decrypted wrong.\n",
        "\n",
        "If any one key is wrong by even 1 bit then the whole decrypted text wil be wrong.\n",
        "\n",
        "If given plaintext is encrypted twice then the security of cipher increases because encrypted plaintext is encrypted once more. "
      ],
      "metadata": {
        "id": "kmpqTK-_qwaG"
      }
    }
  ]
}