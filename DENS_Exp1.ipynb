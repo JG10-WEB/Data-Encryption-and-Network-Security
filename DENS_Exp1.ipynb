{
  "nbformat": 4,
  "nbformat_minor": 0,
  "metadata": {
    "colab": {
      "name": "DENS_Exp1.ipynb",
      "provenance": []
    },
    "kernelspec": {
      "name": "python3",
      "display_name": "Python 3"
    },
    "language_info": {
      "name": "python"
    }
  },
  "cells": [
    {
      "cell_type": "markdown",
      "source": [
        "Name: Darshil Dhandhukia\n",
        "\n",
        "Roll No: C010\n",
        "\n",
        "BTech EXTC\n",
        "\n",
        "Subject: DENS\n",
        "\n",
        "Aim: Monoalphabetic Substituition 'Additive' Cipher with key length = 1"
      ],
      "metadata": {
        "id": "pveLez-vYr5_"
      }
    },
    {
      "cell_type": "code",
      "source": [
        "#string library helps in doing common string operations\n",
        "import string"
      ],
      "metadata": {
        "id": "viYgM9ZxYnoF"
      },
      "execution_count": null,
      "outputs": []
    },
    {
      "cell_type": "code",
      "source": [
        "#ascii_letters is the concatenation of uppercase and lowercase letters.\n",
        "all_characters = string.ascii_letters #this variable can be used as plaintext. string.printable can also be used here\n",
        "print(all_characters)"
      ],
      "metadata": {
        "colab": {
          "base_uri": "https://localhost:8080/"
        },
        "id": "gwPzizzQbWKv",
        "outputId": "237ae8f4-a6bb-4f1c-9997-ef1733fe383a"
      },
      "execution_count": null,
      "outputs": [
        {
          "output_type": "stream",
          "name": "stdout",
          "text": [
            "abcdefghijklmnopqrstuvwxyzABCDEFGHIJKLMNOPQRSTUVWXYZ\n"
          ]
        }
      ]
    },
    {
      "cell_type": "code",
      "source": [
        "#dictionary to store substituition for given alphabet in the plaintext based on the key.\n",
        "encrypt_dict = {}\n",
        "key = input(\"Enter any character as a key: \") #any character(alphabet or digits) can be used.\n",
        "key = int(key) #ord can also be used in place of int."
      ],
      "metadata": {
        "colab": {
          "base_uri": "https://localhost:8080/"
        },
        "id": "8ZDZkC-JcBts",
        "outputId": "a1ba6ce1-ade6-4ca8-e11b-a5670dff8999"
      },
      "execution_count": null,
      "outputs": [
        {
          "name": "stdout",
          "output_type": "stream",
          "text": [
            "Enter any character(alphabet or number) as a key: 3\n"
          ]
        }
      ]
    },
    {
      "cell_type": "code",
      "source": [
        "#now we formulate the encrypted text dictionary\n",
        "len_all = len(all_characters)\n",
        "for i in range (len_all):\n",
        "  encrypt_dict[all_characters[i]] = all_characters[(i+key) % len_all] #here we use mod just like we did in the class (mod26)\n",
        "\n",
        "#the above loop will assign all the characters a new encrypted letter \n",
        "\n",
        "print(encrypt_dict)"
      ],
      "metadata": {
        "colab": {
          "base_uri": "https://localhost:8080/"
        },
        "id": "R47y1dNcdfYB",
        "outputId": "8cf2d9d2-41e3-4489-87e8-799afb96213f"
      },
      "execution_count": null,
      "outputs": [
        {
          "output_type": "stream",
          "name": "stdout",
          "text": [
            "{'a': 'd', 'b': 'e', 'c': 'f', 'd': 'g', 'e': 'h', 'f': 'i', 'g': 'j', 'h': 'k', 'i': 'l', 'j': 'm', 'k': 'n', 'l': 'o', 'm': 'p', 'n': 'q', 'o': 'r', 'p': 's', 'q': 't', 'r': 'u', 's': 'v', 't': 'w', 'u': 'x', 'v': 'y', 'w': 'z', 'x': 'A', 'y': 'B', 'z': 'C', 'A': 'D', 'B': 'E', 'C': 'F', 'D': 'G', 'E': 'H', 'F': 'I', 'G': 'J', 'H': 'K', 'I': 'L', 'J': 'M', 'K': 'N', 'L': 'O', 'M': 'P', 'N': 'Q', 'O': 'R', 'P': 'S', 'Q': 'T', 'R': 'U', 'S': 'V', 'T': 'W', 'U': 'X', 'V': 'Y', 'W': 'Z', 'X': 'a', 'Y': 'b', 'Z': 'c'}\n"
          ]
        }
      ]
    },
    {
      "cell_type": "code",
      "source": [
        "#input from user is taken for the string to be encrypted.\n",
        "plain_text = input(\"Enter any string to be encrypted: \")\n",
        "cipher_text = []"
      ],
      "metadata": {
        "colab": {
          "base_uri": "https://localhost:8080/"
        },
        "id": "hKKozSZhfWBl",
        "outputId": "9a8045d1-40aa-46d0-abb1-fe16cf7e86c8"
      },
      "execution_count": null,
      "outputs": [
        {
          "name": "stdout",
          "output_type": "stream",
          "text": [
            "Enter any string to be encrypted: darshil22\n"
          ]
        }
      ]
    },
    {
      "cell_type": "code",
      "source": [
        "#loop to generate cipher text\n",
        "for p in plain_text:\n",
        "  if p in all_characters:\n",
        "    temp = encrypt_dict[p]\n",
        "    cipher_text.append(temp)\n",
        "  else:\n",
        "    temp = p\n",
        "    cipher_text.append(temp)"
      ],
      "metadata": {
        "id": "nZvxFRNcfmgA"
      },
      "execution_count": null,
      "outputs": []
    },
    {
      "cell_type": "code",
      "source": [
        "cipher_text= \"\".join(cipher_text) #join() method takes all items in an iterable and joins them into one string.\n",
        "print(\"Plain text is\", plain_text)\n",
        "print(\"Cipher text is\",cipher_text)"
      ],
      "metadata": {
        "colab": {
          "base_uri": "https://localhost:8080/"
        },
        "id": "bCKc78Oygdvn",
        "outputId": "f4d56bc0-df6f-4e59-9b7d-67ccb96ace43"
      },
      "execution_count": null,
      "outputs": [
        {
          "output_type": "stream",
          "name": "stdout",
          "text": [
            "Plain text is darshil22\n",
            "Cipher text is gduvklo22\n"
          ]
        }
      ]
    },
    {
      "cell_type": "code",
      "source": [
        "#decryption\n",
        "#dictionary to store the substitution for the given alphabet in the cipher text based on the key\n",
        "decrypt_dict={}\n",
        "\n",
        "for i in range(len_all):\n",
        "  decrypt_dict[all_characters[i]] = all_characters[(i-key) % len_all]\n",
        "\n",
        "print(decrypt_dict)"
      ],
      "metadata": {
        "colab": {
          "base_uri": "https://localhost:8080/"
        },
        "id": "uwhgcsMEhGji",
        "outputId": "88ceb7d8-bc0e-4b34-9086-9f5013340053"
      },
      "execution_count": null,
      "outputs": [
        {
          "output_type": "stream",
          "name": "stdout",
          "text": [
            "{'a': 'X', 'b': 'Y', 'c': 'Z', 'd': 'a', 'e': 'b', 'f': 'c', 'g': 'd', 'h': 'e', 'i': 'f', 'j': 'g', 'k': 'h', 'l': 'i', 'm': 'j', 'n': 'k', 'o': 'l', 'p': 'm', 'q': 'n', 'r': 'o', 's': 'p', 't': 'q', 'u': 'r', 'v': 's', 'w': 't', 'x': 'u', 'y': 'v', 'z': 'w', 'A': 'x', 'B': 'y', 'C': 'z', 'D': 'A', 'E': 'B', 'F': 'C', 'G': 'D', 'H': 'E', 'I': 'F', 'J': 'G', 'K': 'H', 'L': 'I', 'M': 'J', 'N': 'K', 'O': 'L', 'P': 'M', 'Q': 'N', 'R': 'O', 'S': 'P', 'T': 'Q', 'U': 'R', 'V': 'S', 'W': 'T', 'X': 'U', 'Y': 'V', 'Z': 'W'}\n"
          ]
        }
      ]
    },
    {
      "cell_type": "code",
      "source": [
        "#the below loop helps in recovering the plaintext from the cipher text.\n",
        "decrypt_text = []\n",
        "for c in cipher_text:\n",
        "    if c in all_characters:\n",
        "        temp = decrypt_dict[c]\n",
        "        decrypt_text.append(temp)\n",
        "    else:\n",
        "        temp = c\n",
        "        decrypt_text.append(temp)"
      ],
      "metadata": {
        "id": "sQtPHkWdjDrz"
      },
      "execution_count": null,
      "outputs": []
    },
    {
      "cell_type": "code",
      "source": [
        "decrypt_text = \"\".join(decrypt_text) #join() method takes all items in an iterable and joins them into one string.\n",
        "print(\"Decrypted text is\",decrypt_text)\n",
        "print(\"Plain text is\", plain_text)"
      ],
      "metadata": {
        "colab": {
          "base_uri": "https://localhost:8080/"
        },
        "id": "w45rjLnWjswb",
        "outputId": "c61692f2-3c34-46ae-927b-26435b3c416a"
      },
      "execution_count": null,
      "outputs": [
        {
          "output_type": "stream",
          "name": "stdout",
          "text": [
            "Decrypted text is darshil22\n",
            "Plain text is darshil22\n"
          ]
        }
      ]
    },
    {
      "cell_type": "markdown",
      "source": [
        "**2nd method**\n",
        "\n",
        "Below I have tried string.printable. I have also tried using ord in place of int while making the dictionary for encrypted characters."
      ],
      "metadata": {
        "id": "0jW96qMTRoEg"
      }
    },
    {
      "cell_type": "code",
      "source": [
        "#string.printable consists of digits, uppercase, lowercase and special characters.\n",
        "all_characters1 = string.printable\n",
        "print(all_characters1)"
      ],
      "metadata": {
        "id": "cmjSx5SFb6Ms",
        "colab": {
          "base_uri": "https://localhost:8080/"
        },
        "outputId": "fe3b75ab-ee33-4031-c7b5-9c43a290896a"
      },
      "execution_count": null,
      "outputs": [
        {
          "output_type": "stream",
          "name": "stdout",
          "text": [
            "0123456789abcdefghijklmnopqrstuvwxyzABCDEFGHIJKLMNOPQRSTUVWXYZ!\"#$%&'()*+,-./:;<=>?@[\\]^_`{|}~ \t\n",
            "\r\u000b\f\n"
          ]
        }
      ]
    },
    {
      "cell_type": "code",
      "source": [
        "#dictionary to store substituition for given alphabet in the plaintext based on the key.\n",
        "encrypt_dict = {}\n",
        "key = input(\"Enter any character as a key: \") #any character(alphabet or digits) can be used.\n",
        "key = ord(key) #ord to be used for alphabet as key and for numbers we can use int."
      ],
      "metadata": {
        "colab": {
          "base_uri": "https://localhost:8080/"
        },
        "id": "bgsX-Gk2Kqhf",
        "outputId": "d2e6c7fe-a55a-4867-b9ff-3b643d9cd14e"
      },
      "execution_count": null,
      "outputs": [
        {
          "name": "stdout",
          "output_type": "stream",
          "text": [
            "Enter any character as a key: a\n"
          ]
        }
      ]
    },
    {
      "cell_type": "code",
      "source": [
        "#now we formulate the encrypted text dictionary\n",
        "len_all = len(all_characters1)\n",
        "for i in range (len_all):\n",
        "  encrypt_dict[all_characters1[i]] = all_characters1[(i+key) % len_all] #here we use mod just like we did in the class (mod26)\n",
        "\n",
        "#the above loop will assign all the characters a new encrypted letter \n",
        "\n",
        "print(encrypt_dict)"
      ],
      "metadata": {
        "colab": {
          "base_uri": "https://localhost:8080/"
        },
        "id": "us4MJkWLK7No",
        "outputId": "7b32e47a-cb6d-4679-f35b-8c9675d9b24f"
      },
      "execution_count": null,
      "outputs": [
        {
          "output_type": "stream",
          "name": "stdout",
          "text": [
            "{'0': '\\r', '1': '\\x0b', '2': '\\x0c', '3': '0', '4': '1', '5': '2', '6': '3', '7': '4', '8': '5', '9': '6', 'a': '7', 'b': '8', 'c': '9', 'd': 'a', 'e': 'b', 'f': 'c', 'g': 'd', 'h': 'e', 'i': 'f', 'j': 'g', 'k': 'h', 'l': 'i', 'm': 'j', 'n': 'k', 'o': 'l', 'p': 'm', 'q': 'n', 'r': 'o', 's': 'p', 't': 'q', 'u': 'r', 'v': 's', 'w': 't', 'x': 'u', 'y': 'v', 'z': 'w', 'A': 'x', 'B': 'y', 'C': 'z', 'D': 'A', 'E': 'B', 'F': 'C', 'G': 'D', 'H': 'E', 'I': 'F', 'J': 'G', 'K': 'H', 'L': 'I', 'M': 'J', 'N': 'K', 'O': 'L', 'P': 'M', 'Q': 'N', 'R': 'O', 'S': 'P', 'T': 'Q', 'U': 'R', 'V': 'S', 'W': 'T', 'X': 'U', 'Y': 'V', 'Z': 'W', '!': 'X', '\"': 'Y', '#': 'Z', '$': '!', '%': '\"', '&': '#', \"'\": '$', '(': '%', ')': '&', '*': \"'\", '+': '(', ',': ')', '-': '*', '.': '+', '/': ',', ':': '-', ';': '.', '<': '/', '=': ':', '>': ';', '?': '<', '@': '=', '[': '>', '\\\\': '?', ']': '@', '^': '[', '_': '\\\\', '`': ']', '{': '^', '|': '_', '}': '`', '~': '{', ' ': '|', '\\t': '}', '\\n': '~', '\\r': ' ', '\\x0b': '\\t', '\\x0c': '\\n'}\n"
          ]
        }
      ]
    },
    {
      "cell_type": "markdown",
      "source": [
        "As we can see above that that few characters in encryption dictionary are assigned some different values which is not allowed and cannot be used to encrypt the text. Therefore ord() cannot be used here."
      ],
      "metadata": {
        "id": "aLR4sGGjR4Xh"
      }
    },
    {
      "cell_type": "markdown",
      "source": [
        "**Conclusion:** For monoalphabetic ciphers the substituition cipher is used to encrypt the plain text. All the characters which are not a part of possible plain text are not encrypted by the cipher. Possible key domain for the given cipher is 52."
      ],
      "metadata": {
        "id": "7R92ftl0lEyE"
      }
    }
  ]
}