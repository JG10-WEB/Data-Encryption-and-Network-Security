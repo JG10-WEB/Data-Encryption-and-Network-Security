{
  "nbformat": 4,
  "nbformat_minor": 0,
  "metadata": {
    "colab": {
      "name": "DENS Expt 7.ipynb",
      "provenance": []
    },
    "kernelspec": {
      "name": "python3",
      "display_name": "Python 3"
    },
    "language_info": {
      "name": "python"
    }
  },
  "cells": [
    {
      "cell_type": "markdown",
      "source": [
        "Name: Darshil Dhandhukia\n",
        "\n",
        "Roll No: C010\n",
        "\n",
        "Subject: DENS\n",
        "\n",
        "BTech EXTC\n",
        "\n",
        "Aim: For determining a number represented by multiple mod values using Chinese Remainder Theorem"
      ],
      "metadata": {
        "id": "S_JBy_ZR1kVy"
      }
    },
    {
      "cell_type": "code",
      "source": [
        "#this code is for multiplicative inverse.\n",
        "def multi_inv(n,a): #n is for mod n value\n",
        "  r1 = n #x column value initialization\n",
        "  r2 = a #y column value initialization\n",
        "  x1 = int(1)\n",
        "  x2 = int(0)\n",
        "  y1 = int(0)\n",
        "  y2 = int(1)\n",
        "\n",
        "  while r2>0: #till the time r2 is non-zero we need to keep dividing\n",
        "    q = r1 // r2 #\"//\" is for floor division, \"q\" is for finding the quotient\n",
        "    r = r1 - (q*r2) #for remainder.\n",
        "    r1 = r2 #from here the next step starts. here we assign r2 value to r1 and the new remainder value to r2.\n",
        "    r2 = r\n",
        "    x = x1 - (q*x2)\n",
        "    x1 = x2\n",
        "    x2 = x\n",
        "    y = y1 - (q*y2)\n",
        "    y1 = y2\n",
        "    y2 = y\n",
        "\n",
        "  if y1<0: #this if loop is used when we get a negative number as the multiplicative inverse.\n",
        "    y1 = y1 % n\n",
        "  return y1"
      ],
      "metadata": {
        "id": "gac1YXgj7kg4"
      },
      "execution_count": null,
      "outputs": []
    },
    {
      "cell_type": "code",
      "source": [
        "#Chinese raminader theorem to determine unknown number\n",
        "m1, m2, m3, m4 = input(\"Enter m1, m2, m3 and m4: \").split() #here the user will input the 4 modular numbers and then we will split the numbers\n",
        "#converting the numbers to int\n",
        "m1 = int(m1)\n",
        "m2 = int(m2)\n",
        "m3 = int(m3)\n",
        "m4 = int(m4)\n",
        "\n",
        "a1, a2, a3, a4= input(\"Enter a1, a2, a3 and a4: \").split()\n",
        "a1 = int(a1)\n",
        "a2 = int(a2)\n",
        "a3 = int(a3)\n",
        "a4 = int(a4)\n"
      ],
      "metadata": {
        "colab": {
          "base_uri": "https://localhost:8080/"
        },
        "id": "zZuGHtmJ7kde",
        "outputId": "a244e6ad-ecd8-4380-c53b-6e1a268e2371"
      },
      "execution_count": null,
      "outputs": [
        {
          "name": "stdout",
          "output_type": "stream",
          "text": [
            "Enter m1, m2, m3 and m4: 10 13 7 11\n",
            "Enter a1, a2, a3 and a4: 4 6 4 2\n"
          ]
        }
      ]
    },
    {
      "cell_type": "code",
      "source": [
        "M = m1*m2*m3*m4\n",
        "M1 = M/m1\n",
        "M2 = M/m2\n",
        "M3 = M/m3\n",
        "M4 = M/m4"
      ],
      "metadata": {
        "id": "mukRJOoC7kZh"
      },
      "execution_count": null,
      "outputs": []
    },
    {
      "cell_type": "code",
      "source": [
        "M2"
      ],
      "metadata": {
        "colab": {
          "base_uri": "https://localhost:8080/"
        },
        "id": "lTWuceUe7kQo",
        "outputId": "720986d0-2f86-43d4-8e47-9d06f8eb0eaa"
      },
      "execution_count": null,
      "outputs": [
        {
          "output_type": "execute_result",
          "data": {
            "text/plain": [
              "770.0"
            ]
          },
          "metadata": {},
          "execution_count": 35
        }
      ]
    },
    {
      "cell_type": "code",
      "source": [
        "M1_inv = multi_inv(m1, M1)\n",
        "M2_inv = multi_inv(m2, M2)\n",
        "M3_inv = multi_inv(m3, M3)\n",
        "M4_inv = multi_inv(m4, M4)"
      ],
      "metadata": {
        "id": "Eepn0AMyCWum"
      },
      "execution_count": null,
      "outputs": []
    },
    {
      "cell_type": "code",
      "source": [
        "M1_inv"
      ],
      "metadata": {
        "colab": {
          "base_uri": "https://localhost:8080/"
        },
        "id": "0-SisZnqEmeh",
        "outputId": "ac905a52-8cf2-49fd-e2ef-f405f04ca1a8"
      },
      "execution_count": null,
      "outputs": [
        {
          "output_type": "execute_result",
          "data": {
            "text/plain": [
              "1.0"
            ]
          },
          "metadata": {},
          "execution_count": 40
        }
      ]
    },
    {
      "cell_type": "code",
      "source": [
        "M2_inv"
      ],
      "metadata": {
        "colab": {
          "base_uri": "https://localhost:8080/"
        },
        "id": "HbPthTAeEmQW",
        "outputId": "f323ba59-a99c-42ba-a6ab-2f02e196861b"
      },
      "execution_count": null,
      "outputs": [
        {
          "output_type": "execute_result",
          "data": {
            "text/plain": [
              "9.0"
            ]
          },
          "metadata": {},
          "execution_count": 41
        }
      ]
    },
    {
      "cell_type": "code",
      "source": [
        "M3_inv"
      ],
      "metadata": {
        "colab": {
          "base_uri": "https://localhost:8080/"
        },
        "id": "64ov1qndEsqC",
        "outputId": "dfaf564c-eb5f-4e28-a8c0-5faec0d0cecb"
      },
      "execution_count": null,
      "outputs": [
        {
          "output_type": "execute_result",
          "data": {
            "text/plain": [
              "4.0"
            ]
          },
          "metadata": {},
          "execution_count": 42
        }
      ]
    },
    {
      "cell_type": "code",
      "source": [
        "M4_inv"
      ],
      "metadata": {
        "colab": {
          "base_uri": "https://localhost:8080/"
        },
        "id": "YUY2-HVoCxir",
        "outputId": "8a1fb195-c599-4892-dc28-02bad67c5bee"
      },
      "execution_count": null,
      "outputs": [
        {
          "output_type": "execute_result",
          "data": {
            "text/plain": [
              "7.0"
            ]
          },
          "metadata": {},
          "execution_count": 39
        }
      ]
    },
    {
      "cell_type": "code",
      "source": [
        "X = (a1*M1*M1_inv) + (a2*M2*M2_inv) + (a3*M3*M3_inv) + (a4*M4*M4_inv)\n",
        "#since value of X is more than mod value we do the below step\n",
        "X = X % M\n",
        "X = int(X)\n",
        "print(\"Unknown number is: \", X)"
      ],
      "metadata": {
        "colab": {
          "base_uri": "https://localhost:8080/"
        },
        "id": "zEGWIhg4Evsj",
        "outputId": "c2fb4ed6-ebb3-43f0-8432-53dc2f8ced1d"
      },
      "execution_count": null,
      "outputs": [
        {
          "output_type": "stream",
          "name": "stdout",
          "text": [
            "Unknown number is:  1124\n"
          ]
        }
      ]
    },
    {
      "cell_type": "markdown",
      "source": [
        "##Conclusion:\n",
        "Any value A mod M can have A represented in terms of {a1,a2...ak} and M = m1*m2*...*mk \n",
        "\n",
        "This is true only if all mi that make up M are relatively prime to each other"
      ],
      "metadata": {
        "id": "tQYKjb3YAJSe"
      }
    }
  ]
}