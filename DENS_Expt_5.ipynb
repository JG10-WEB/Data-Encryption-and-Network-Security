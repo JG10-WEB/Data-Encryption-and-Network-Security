{
  "nbformat": 4,
  "nbformat_minor": 0,
  "metadata": {
    "colab": {
      "name": "DENS Expt 5.ipynb",
      "provenance": []
    },
    "kernelspec": {
      "name": "python3",
      "display_name": "Python 3"
    },
    "language_info": {
      "name": "python"
    }
  },
  "cells": [
    {
      "cell_type": "markdown",
      "source": [
        "Name: Darshil Dhandhukia\n",
        "\n",
        "Roll No: C010\n",
        "\n",
        "Subject: DENS\n",
        "\n",
        "BTech EXTC\n",
        "\n",
        "Aim: Generation of keys for DES algorithm"
      ],
      "metadata": {
        "id": "G1UCIVbQsLrx"
      }
    },
    {
      "cell_type": "code",
      "execution_count": null,
      "metadata": {
        "id": "Qs-c2zXYr5r-"
      },
      "outputs": [],
      "source": [
        "import numpy as np\n",
        "import random"
      ]
    },
    {
      "cell_type": "code",
      "source": [
        "key = np.arange(0,64,1)\n",
        "print(key)"
      ],
      "metadata": {
        "colab": {
          "base_uri": "https://localhost:8080/"
        },
        "id": "qP53ohCgtVWS",
        "outputId": "fb5a769d-2a3e-479c-d275-0aa48505a964"
      },
      "execution_count": null,
      "outputs": [
        {
          "output_type": "stream",
          "name": "stdout",
          "text": [
            "[ 0  1  2  3  4  5  6  7  8  9 10 11 12 13 14 15 16 17 18 19 20 21 22 23\n",
            " 24 25 26 27 28 29 30 31 32 33 34 35 36 37 38 39 40 41 42 43 44 45 46 47\n",
            " 48 49 50 51 52 53 54 55 56 57 58 59 60 61 62 63]\n"
          ]
        }
      ]
    },
    {
      "cell_type": "code",
      "source": [
        "# Initialize permutaion choice 1 matrix\n",
        "PC1= [57,49,41,33, 25,17,9,1,58,50,42,34,26,18,10,2,59,51,43,35,27, 19,11,3,60,52,44,36,63,55,47,39,31,23,15,7,62,54,46,38,30,22,14,6,61,53,45,37,29,21,13,25,28,20,12,4]"
      ],
      "metadata": {
        "id": "zBrRh-Patj3T"
      },
      "execution_count": null,
      "outputs": []
    },
    {
      "cell_type": "code",
      "source": [
        "#Initialize permutaion choice 2 matrix\n",
        "PC2= [14,17,11,24,1,5,3,28,15,6,21,10,23,19,12,4,26,8,16,7, 27,20,13,2,41,52,31,37,47,55,30,40,51,45,33,48,44,49,39,56,34,53,46,42,50,36,29,32]"
      ],
      "metadata": {
        "id": "LJVHiiCfukMt"
      },
      "execution_count": null,
      "outputs": []
    },
    {
      "cell_type": "code",
      "source": [
        "# Performs permutation and parity drop operations\n",
        "subkey=[]\n",
        "for i in range(0,56):\n",
        "  temp1 = PC1[i] #takes 0th element(that is 57th value from the table and give it to temporary value table)\n",
        "  temp2 = key[temp1] #goes in the list of key for finding the value of element of PC1. \n",
        "  subkey.append(temp2)\n",
        "\n",
        "print(subkey)"
      ],
      "metadata": {
        "colab": {
          "base_uri": "https://localhost:8080/"
        },
        "id": "-7toZSALvDvf",
        "outputId": "c0b87b71-e426-4a06-b079-bb637ce76ee0"
      },
      "execution_count": null,
      "outputs": [
        {
          "output_type": "stream",
          "name": "stdout",
          "text": [
            "[57, 49, 41, 33, 25, 17, 9, 1, 58, 50, 42, 34, 26, 18, 10, 2, 59, 51, 43, 35, 27, 19, 11, 3, 60, 52, 44, 36, 63, 55, 47, 39, 31, 23, 15, 7, 62, 54, 46, 38, 30, 22, 14, 6, 61, 53, 45, 37, 29, 21, 13, 25, 28, 20, 12, 4]\n"
          ]
        }
      ]
    },
    {
      "cell_type": "code",
      "source": [
        "#here we divide the output of the PC1 table in C and D part.\n",
        "C = subkey[0:28]\n",
        "D = subkey[28:]\n",
        "print(C)\n",
        "print(D)"
      ],
      "metadata": {
        "colab": {
          "base_uri": "https://localhost:8080/"
        },
        "id": "A1ZSnanfvvV_",
        "outputId": "48a2f0b2-e8ab-4174-b298-748afce5ade1"
      },
      "execution_count": null,
      "outputs": [
        {
          "output_type": "stream",
          "name": "stdout",
          "text": [
            "[57, 49, 41, 33, 25, 17, 9, 1, 58, 50, 42, 34, 26, 18, 10, 2, 59, 51, 43, 35, 27, 19, 11, 3, 60, 52, 44, 36]\n",
            "[63, 55, 47, 39, 31, 23, 15, 7, 62, 54, 46, 38, 30, 22, 14, 6, 61, 53, 45, 37, 29, 21, 13, 25, 28, 20, 12, 4]\n"
          ]
        }
      ]
    },
    {
      "cell_type": "code",
      "source": [
        "#this is done for the rotations of the bit.\n",
        "subkeys = np.zeros([16,56],dtype=int)\n",
        "\n",
        "for i in range(0,16):\n",
        "  temp = []\n",
        "  if i==0 or i==1 or i==8 or i==15:\n",
        "    C = np.roll(C,-1) #this will rotate left.\n",
        "    D = np.roll(D,-1)\n",
        "  else:\n",
        "    C = np.roll(C,-2)\n",
        "    D = np.roll(D,-2)\n",
        "  temp = np.concatenate((C,D))\n",
        "  subkeys[i,:] = temp\n",
        "\n",
        "print(subkeys)"
      ],
      "metadata": {
        "colab": {
          "base_uri": "https://localhost:8080/"
        },
        "id": "Uc3QsxFAxX1V",
        "outputId": "e738eb69-33e1-4803-808b-5e421e8d7f20"
      },
      "execution_count": null,
      "outputs": [
        {
          "output_type": "stream",
          "name": "stdout",
          "text": [
            "[[49 41 33 25 17  9  1 58 50 42 34 26 18 10  2 59 51 43 35 27 19 11  3 60\n",
            "  52 44 36 57 55 47 39 31 23 15  7 62 54 46 38 30 22 14  6 61 53 45 37 29\n",
            "  21 13 25 28 20 12  4 63]\n",
            " [41 33 25 17  9  1 58 50 42 34 26 18 10  2 59 51 43 35 27 19 11  3 60 52\n",
            "  44 36 57 49 47 39 31 23 15  7 62 54 46 38 30 22 14  6 61 53 45 37 29 21\n",
            "  13 25 28 20 12  4 63 55]\n",
            " [25 17  9  1 58 50 42 34 26 18 10  2 59 51 43 35 27 19 11  3 60 52 44 36\n",
            "  57 49 41 33 31 23 15  7 62 54 46 38 30 22 14  6 61 53 45 37 29 21 13 25\n",
            "  28 20 12  4 63 55 47 39]\n",
            " [ 9  1 58 50 42 34 26 18 10  2 59 51 43 35 27 19 11  3 60 52 44 36 57 49\n",
            "  41 33 25 17 15  7 62 54 46 38 30 22 14  6 61 53 45 37 29 21 13 25 28 20\n",
            "  12  4 63 55 47 39 31 23]\n",
            " [58 50 42 34 26 18 10  2 59 51 43 35 27 19 11  3 60 52 44 36 57 49 41 33\n",
            "  25 17  9  1 62 54 46 38 30 22 14  6 61 53 45 37 29 21 13 25 28 20 12  4\n",
            "  63 55 47 39 31 23 15  7]\n",
            " [42 34 26 18 10  2 59 51 43 35 27 19 11  3 60 52 44 36 57 49 41 33 25 17\n",
            "   9  1 58 50 46 38 30 22 14  6 61 53 45 37 29 21 13 25 28 20 12  4 63 55\n",
            "  47 39 31 23 15  7 62 54]\n",
            " [26 18 10  2 59 51 43 35 27 19 11  3 60 52 44 36 57 49 41 33 25 17  9  1\n",
            "  58 50 42 34 30 22 14  6 61 53 45 37 29 21 13 25 28 20 12  4 63 55 47 39\n",
            "  31 23 15  7 62 54 46 38]\n",
            " [10  2 59 51 43 35 27 19 11  3 60 52 44 36 57 49 41 33 25 17  9  1 58 50\n",
            "  42 34 26 18 14  6 61 53 45 37 29 21 13 25 28 20 12  4 63 55 47 39 31 23\n",
            "  15  7 62 54 46 38 30 22]\n",
            " [ 2 59 51 43 35 27 19 11  3 60 52 44 36 57 49 41 33 25 17  9  1 58 50 42\n",
            "  34 26 18 10  6 61 53 45 37 29 21 13 25 28 20 12  4 63 55 47 39 31 23 15\n",
            "   7 62 54 46 38 30 22 14]\n",
            " [51 43 35 27 19 11  3 60 52 44 36 57 49 41 33 25 17  9  1 58 50 42 34 26\n",
            "  18 10  2 59 53 45 37 29 21 13 25 28 20 12  4 63 55 47 39 31 23 15  7 62\n",
            "  54 46 38 30 22 14  6 61]\n",
            " [35 27 19 11  3 60 52 44 36 57 49 41 33 25 17  9  1 58 50 42 34 26 18 10\n",
            "   2 59 51 43 37 29 21 13 25 28 20 12  4 63 55 47 39 31 23 15  7 62 54 46\n",
            "  38 30 22 14  6 61 53 45]\n",
            " [19 11  3 60 52 44 36 57 49 41 33 25 17  9  1 58 50 42 34 26 18 10  2 59\n",
            "  51 43 35 27 21 13 25 28 20 12  4 63 55 47 39 31 23 15  7 62 54 46 38 30\n",
            "  22 14  6 61 53 45 37 29]\n",
            " [ 3 60 52 44 36 57 49 41 33 25 17  9  1 58 50 42 34 26 18 10  2 59 51 43\n",
            "  35 27 19 11 25 28 20 12  4 63 55 47 39 31 23 15  7 62 54 46 38 30 22 14\n",
            "   6 61 53 45 37 29 21 13]\n",
            " [52 44 36 57 49 41 33 25 17  9  1 58 50 42 34 26 18 10  2 59 51 43 35 27\n",
            "  19 11  3 60 20 12  4 63 55 47 39 31 23 15  7 62 54 46 38 30 22 14  6 61\n",
            "  53 45 37 29 21 13 25 28]\n",
            " [36 57 49 41 33 25 17  9  1 58 50 42 34 26 18 10  2 59 51 43 35 27 19 11\n",
            "   3 60 52 44  4 63 55 47 39 31 23 15  7 62 54 46 38 30 22 14  6 61 53 45\n",
            "  37 29 21 13 25 28 20 12]\n",
            " [57 49 41 33 25 17  9  1 58 50 42 34 26 18 10  2 59 51 43 35 27 19 11  3\n",
            "  60 52 44 36 63 55 47 39 31 23 15  7 62 54 46 38 30 22 14  6 61 53 45 37\n",
            "  29 21 13 25 28 20 12  4]]\n"
          ]
        }
      ]
    },
    {
      "cell_type": "code",
      "source": [
        "#Now each of the keys will have to go through the PC2 table.\n",
        "final_subkeys = np.zeros([16,48], dtype = int)\n",
        "for i in range(0,16):\n",
        "  temp1 = subkeys[i,:]\n",
        "  temp2 = []\n",
        "  for j in range(0,48):\n",
        "    temp3 = PC2[j]\n",
        "    temp4 = temp1[temp3-1]\n",
        "    temp2.append(temp4)\n",
        "  final_subkeys[i,:] = temp2\n",
        "  print(\"subkey for round\",i,\"=\",temp2)"
      ],
      "metadata": {
        "colab": {
          "base_uri": "https://localhost:8080/"
        },
        "id": "rHMI2ovAyoZh",
        "outputId": "12321a6b-6525-4168-c47d-b4180b85f229"
      },
      "execution_count": null,
      "outputs": [
        {
          "output_type": "stream",
          "name": "stdout",
          "text": [
            "subkey for round 0 = [10, 51, 34, 60, 49, 17, 33, 57, 2, 9, 19, 42, 3, 35, 26, 25, 44, 58, 59, 1, 36, 27, 18, 41, 22, 28, 39, 54, 37, 4, 47, 30, 25, 53, 23, 29, 61, 21, 38, 63, 15, 20, 45, 14, 13, 62, 55, 31]\n",
            "subkey for round 1 = [2, 43, 26, 52, 41, 9, 25, 49, 59, 1, 11, 34, 60, 27, 18, 17, 36, 50, 51, 58, 57, 19, 10, 33, 14, 20, 31, 46, 29, 63, 39, 22, 28, 45, 15, 21, 53, 13, 30, 55, 7, 12, 37, 6, 25, 54, 47, 23]\n",
            "subkey for round 2 = [51, 27, 10, 36, 25, 58, 9, 33, 43, 50, 60, 18, 44, 11, 2, 1, 49, 34, 35, 42, 41, 3, 59, 17, 61, 4, 15, 30, 13, 47, 23, 6, 12, 29, 62, 25, 37, 28, 14, 39, 54, 63, 21, 53, 20, 38, 31, 7]\n",
            "subkey for round 3 = [35, 11, 59, 49, 9, 42, 58, 17, 27, 34, 44, 2, 57, 60, 51, 50, 33, 18, 19, 26, 25, 52, 43, 1, 45, 55, 62, 14, 28, 31, 7, 53, 63, 13, 46, 20, 21, 12, 61, 23, 38, 47, 25, 37, 4, 22, 15, 54]\n",
            "subkey for round 4 = [19, 60, 43, 33, 58, 26, 42, 1, 11, 18, 57, 51, 41, 44, 35, 34, 17, 2, 3, 10, 9, 36, 27, 50, 29, 39, 46, 61, 12, 15, 54, 37, 47, 28, 30, 4, 25, 63, 45, 7, 22, 31, 20, 21, 55, 6, 62, 38]\n",
            "subkey for round 5 = [3, 44, 27, 17, 42, 10, 26, 50, 60, 2, 41, 35, 25, 57, 19, 18, 1, 51, 52, 59, 58, 49, 11, 34, 13, 23, 30, 45, 63, 62, 38, 21, 31, 12, 14, 55, 20, 47, 29, 54, 6, 15, 4, 25, 39, 53, 46, 22]\n",
            "subkey for round 6 = [52, 57, 11, 1, 26, 59, 10, 34, 44, 51, 25, 19, 9, 41, 3, 2, 50, 35, 36, 43, 42, 33, 60, 18, 28, 7, 14, 29, 47, 46, 22, 25, 15, 63, 61, 39, 4, 31, 13, 38, 53, 62, 55, 20, 23, 37, 30, 6]\n",
            "subkey for round 7 = [36, 41, 60, 50, 10, 43, 59, 18, 57, 35, 9, 3, 58, 25, 52, 51, 34, 19, 49, 27, 26, 17, 44, 2, 12, 54, 61, 13, 31, 30, 6, 20, 62, 47, 45, 23, 55, 15, 28, 22, 37, 46, 39, 4, 7, 21, 14, 53]\n",
            "subkey for round 8 = [57, 33, 52, 42, 2, 35, 51, 10, 49, 27, 1, 60, 50, 17, 44, 43, 26, 11, 41, 19, 18, 9, 36, 59, 4, 46, 53, 25, 23, 22, 61, 12, 54, 39, 37, 15, 47, 7, 20, 14, 29, 38, 31, 63, 62, 13, 6, 45]\n",
            "subkey for round 9 = [41, 17, 36, 26, 51, 19, 35, 59, 33, 11, 50, 44, 34, 1, 57, 27, 10, 60, 25, 3, 2, 58, 49, 43, 55, 30, 37, 20, 7, 6, 45, 63, 38, 23, 21, 62, 31, 54, 4, 61, 13, 22, 15, 47, 46, 28, 53, 29]\n",
            "subkey for round 10 = [25, 1, 49, 10, 35, 3, 19, 43, 17, 60, 34, 57, 18, 50, 41, 11, 59, 44, 9, 52, 51, 42, 33, 27, 39, 14, 21, 4, 54, 53, 29, 47, 22, 7, 25, 46, 15, 38, 55, 45, 28, 6, 62, 31, 30, 12, 37, 13]\n",
            "subkey for round 11 = [9, 50, 33, 59, 19, 52, 3, 27, 1, 44, 18, 41, 2, 34, 25, 60, 43, 57, 58, 36, 35, 26, 17, 11, 23, 61, 25, 55, 38, 37, 13, 31, 6, 54, 20, 30, 62, 22, 39, 29, 12, 53, 46, 15, 14, 63, 21, 28]\n",
            "subkey for round 12 = [58, 34, 17, 43, 3, 36, 52, 11, 50, 57, 2, 25, 51, 18, 9, 44, 27, 41, 42, 49, 19, 10, 1, 60, 7, 45, 20, 39, 22, 21, 28, 15, 53, 38, 4, 14, 46, 6, 23, 13, 63, 37, 30, 62, 61, 47, 25, 12]\n",
            "subkey for round 13 = [42, 18, 1, 27, 52, 49, 36, 60, 34, 41, 51, 9, 35, 2, 58, 57, 11, 25, 26, 33, 3, 59, 50, 44, 54, 29, 4, 23, 6, 25, 12, 62, 37, 22, 55, 61, 30, 53, 7, 28, 47, 21, 14, 46, 45, 31, 20, 63]\n",
            "subkey for round 14 = [26, 2, 50, 11, 36, 33, 49, 44, 18, 25, 35, 58, 19, 51, 42, 41, 60, 9, 10, 17, 52, 43, 34, 57, 38, 13, 55, 7, 53, 20, 63, 46, 21, 6, 39, 45, 14, 37, 54, 12, 31, 25, 61, 30, 29, 15, 4, 47]\n",
            "subkey for round 15 = [18, 59, 42, 3, 57, 25, 41, 36, 10, 17, 27, 50, 11, 43, 34, 33, 52, 1, 2, 9, 44, 35, 26, 49, 30, 25, 47, 62, 45, 12, 55, 38, 13, 61, 31, 37, 6, 29, 46, 4, 23, 28, 53, 22, 21, 7, 63, 39]\n"
          ]
        }
      ]
    },
    {
      "cell_type": "markdown",
      "source": [
        "**Conclusion:** 16 subkeys are generated from the 64 bit key entered by the user.\n",
        "\n",
        "length of each subkey is 48 bit.\n",
        "\n",
        "secrecy of subkey is totally dependent on the key entered by the user."
      ],
      "metadata": {
        "id": "8x7GNJKs3xBE"
      }
    },
    {
      "cell_type": "markdown",
      "source": [
        "**Program for DES using binary bits.**"
      ],
      "metadata": {
        "id": "ehboHDKolrDT"
      }
    },
    {
      "cell_type": "code",
      "source": [
        "# Hexadecimal to binary conversion\n",
        "def hex2bin(s):\n",
        "\tmp = {'0' : \"0000\",\n",
        "\t\t'1' : \"0001\",\n",
        "\t\t'2' : \"0010\",\n",
        "\t\t'3' : \"0011\",\n",
        "\t\t'4' : \"0100\",\n",
        "\t\t'5' : \"0101\",\n",
        "\t\t'6' : \"0110\",\n",
        "\t\t'7' : \"0111\",\n",
        "\t\t'8' : \"1000\",\n",
        "\t\t'9' : \"1001\",\n",
        "\t\t'A' : \"1010\",\n",
        "\t\t'B' : \"1011\",\n",
        "\t\t'C' : \"1100\",\n",
        "\t\t'D' : \"1101\",\n",
        "\t\t'E' : \"1110\",\n",
        "\t\t'F' : \"1111\" }\n",
        "\tbin = \"\"\n",
        "\tfor i in range(len(s)):\n",
        "\t\tbin = bin + mp[s[i]]\n",
        "\treturn bin\n",
        "\t\n",
        "# Binary to hexadecimal conversion\n",
        "def bin2hex(s):\n",
        "\tmp = {\"0000\" : '0',\n",
        "\t\t\"0001\" : '1',\n",
        "\t\t\"0010\" : '2',\n",
        "\t\t\"0011\" : '3',\n",
        "\t\t\"0100\" : '4',\n",
        "\t\t\"0101\" : '5',\n",
        "\t\t\"0110\" : '6',\n",
        "\t\t\"0111\" : '7',\n",
        "\t\t\"1000\" : '8',\n",
        "\t\t\"1001\" : '9',\n",
        "\t\t\"1010\" : 'A',\n",
        "\t\t\"1011\" : 'B',\n",
        "\t\t\"1100\" : 'C',\n",
        "\t\t\"1101\" : 'D',\n",
        "\t\t\"1110\" : 'E',\n",
        "\t\t\"1111\" : 'F' }\n",
        "\thex = \"\"\n",
        "\tfor i in range(0,len(s),4):\n",
        "\t\tch = \"\"\n",
        "\t\tch = ch + s[i]\n",
        "\t\tch = ch + s[i + 1]\n",
        "\t\tch = ch + s[i + 2]\n",
        "\t\tch = ch + s[i + 3]\n",
        "\t\thex = hex + mp[ch]\n",
        "\t\t\n",
        "\treturn hex\n",
        "\n",
        "# Binary to decimal conversion\n",
        "def bin2dec(binary):\n",
        "\t\n",
        "\tbinary1 = binary\n",
        "\tdecimal, i, n = 0, 0, 0\n",
        "\twhile(binary != 0):\n",
        "\t\tdec = binary % 10\n",
        "\t\tdecimal = decimal + dec * pow(2, i)\n",
        "\t\tbinary = binary//10\n",
        "\t\ti += 1\n",
        "\treturn decimal\n",
        "\n",
        "# Decimal to binary conversion\n",
        "def dec2bin(num):\n",
        "\tres = bin(num).replace(\"0b\", \"\")\n",
        "\tif(len(res)%4 != 0):\n",
        "\t\tdiv = len(res) / 4\n",
        "\t\tdiv = int(div)\n",
        "\t\tcounter =(4 * (div + 1)) - len(res)\n",
        "\t\tfor i in range(0, counter):\n",
        "\t\t\tres = '0' + res\n",
        "\treturn res\n",
        "\n",
        "# Permute function to rearrange the bits\n",
        "def permute(k, arr, n):\n",
        "\tpermutation = \"\"\n",
        "\tfor i in range(0, n):\n",
        "\t\tpermutation = permutation + k[arr[i] - 1]\n",
        "\treturn permutation\n",
        "\n",
        "# shifting the bits towards left by nth shifts\n",
        "def shift_left(k, nth_shifts):\n",
        "\ts = \"\"\n",
        "\tfor i in range(nth_shifts):\n",
        "\t\tfor j in range(1,len(k)):\n",
        "\t\t\ts = s + k[j]\n",
        "\t\ts = s + k[0]\n",
        "\t\tk = s\n",
        "\t\ts = \"\"\n",
        "\treturn k\n",
        "\n",
        "# calculating xow of two strings of binary number a and b\n",
        "def xor(a, b):\n",
        "\tans = \"\"\n",
        "\tfor i in range(len(a)):\n",
        "\t\tif a[i] == b[i]:\n",
        "\t\t\tans = ans + \"0\"\n",
        "\t\telse:\n",
        "\t\t\tans = ans + \"1\"\n",
        "\treturn ans\n",
        "\n",
        "# Table of Position of 64 bits at initial level: Initial Permutation Table\n",
        "initial_perm = [58, 50, 42, 34, 26, 18, 10, 2,\n",
        "\t\t\t\t60, 52, 44, 36, 28, 20, 12, 4,\n",
        "\t\t\t\t62, 54, 46, 38, 30, 22, 14, 6,\n",
        "\t\t\t\t64, 56, 48, 40, 32, 24, 16, 8,\n",
        "\t\t\t\t57, 49, 41, 33, 25, 17, 9, 1,\n",
        "\t\t\t\t59, 51, 43, 35, 27, 19, 11, 3,\n",
        "\t\t\t\t61, 53, 45, 37, 29, 21, 13, 5,\n",
        "\t\t\t\t63, 55, 47, 39, 31, 23, 15, 7]\n",
        "\n",
        "# Expansion D-box Table\n",
        "exp_d = [32, 1 , 2 , 3 , 4 , 5 , 4 , 5,\n",
        "\t\t6 , 7 , 8 , 9 , 8 , 9 , 10, 11,\n",
        "\t\t12, 13, 12, 13, 14, 15, 16, 17,\n",
        "\t\t16, 17, 18, 19, 20, 21, 20, 21,\n",
        "\t\t22, 23, 24, 25, 24, 25, 26, 27,\n",
        "\t\t28, 29, 28, 29, 30, 31, 32, 1 ]\n",
        "\n",
        "# Straight Permutation Table\n",
        "per = [ 16, 7, 20, 21,\n",
        "\t\t29, 12, 28, 17,\n",
        "\t\t1, 15, 23, 26,\n",
        "\t\t5, 18, 31, 10,\n",
        "\t\t2, 8, 24, 14,\n",
        "\t\t32, 27, 3, 9,\n",
        "\t\t19, 13, 30, 6,\n",
        "\t\t22, 11, 4, 25 ]\n",
        "\n",
        "# S-box Table\n",
        "sbox = [[[14, 4, 13, 1, 2, 15, 11, 8, 3, 10, 6, 12, 5, 9, 0, 7],\n",
        "\t\t[ 0, 15, 7, 4, 14, 2, 13, 1, 10, 6, 12, 11, 9, 5, 3, 8],\n",
        "\t\t[ 4, 1, 14, 8, 13, 6, 2, 11, 15, 12, 9, 7, 3, 10, 5, 0],\n",
        "\t\t[15, 12, 8, 2, 4, 9, 1, 7, 5, 11, 3, 14, 10, 0, 6, 13 ]],\n",
        "\t\t\t\n",
        "\t\t[[15, 1, 8, 14, 6, 11, 3, 4, 9, 7, 2, 13, 12, 0, 5, 10],\n",
        "\t\t\t[3, 13, 4, 7, 15, 2, 8, 14, 12, 0, 1, 10, 6, 9, 11, 5],\n",
        "\t\t\t[0, 14, 7, 11, 10, 4, 13, 1, 5, 8, 12, 6, 9, 3, 2, 15],\n",
        "\t\t[13, 8, 10, 1, 3, 15, 4, 2, 11, 6, 7, 12, 0, 5, 14, 9 ]],\n",
        "\n",
        "\t\t[ [10, 0, 9, 14, 6, 3, 15, 5, 1, 13, 12, 7, 11, 4, 2, 8],\n",
        "\t\t[13, 7, 0, 9, 3, 4, 6, 10, 2, 8, 5, 14, 12, 11, 15, 1],\n",
        "\t\t[13, 6, 4, 9, 8, 15, 3, 0, 11, 1, 2, 12, 5, 10, 14, 7],\n",
        "\t\t\t[1, 10, 13, 0, 6, 9, 8, 7, 4, 15, 14, 3, 11, 5, 2, 12 ]],\n",
        "\t\n",
        "\t\t[ [7, 13, 14, 3, 0, 6, 9, 10, 1, 2, 8, 5, 11, 12, 4, 15],\n",
        "\t\t[13, 8, 11, 5, 6, 15, 0, 3, 4, 7, 2, 12, 1, 10, 14, 9],\n",
        "\t\t[10, 6, 9, 0, 12, 11, 7, 13, 15, 1, 3, 14, 5, 2, 8, 4],\n",
        "\t\t\t[3, 15, 0, 6, 10, 1, 13, 8, 9, 4, 5, 11, 12, 7, 2, 14] ],\n",
        "\t\t\n",
        "\t\t[ [2, 12, 4, 1, 7, 10, 11, 6, 8, 5, 3, 15, 13, 0, 14, 9],\n",
        "\t\t[14, 11, 2, 12, 4, 7, 13, 1, 5, 0, 15, 10, 3, 9, 8, 6],\n",
        "\t\t\t[4, 2, 1, 11, 10, 13, 7, 8, 15, 9, 12, 5, 6, 3, 0, 14],\n",
        "\t\t[11, 8, 12, 7, 1, 14, 2, 13, 6, 15, 0, 9, 10, 4, 5, 3 ]],\n",
        "\t\n",
        "\t\t[ [12, 1, 10, 15, 9, 2, 6, 8, 0, 13, 3, 4, 14, 7, 5, 11],\n",
        "\t\t[10, 15, 4, 2, 7, 12, 9, 5, 6, 1, 13, 14, 0, 11, 3, 8],\n",
        "\t\t\t[9, 14, 15, 5, 2, 8, 12, 3, 7, 0, 4, 10, 1, 13, 11, 6],\n",
        "\t\t\t[4, 3, 2, 12, 9, 5, 15, 10, 11, 14, 1, 7, 6, 0, 8, 13] ],\n",
        "\t\t\n",
        "\t\t[ [4, 11, 2, 14, 15, 0, 8, 13, 3, 12, 9, 7, 5, 10, 6, 1],\n",
        "\t\t[13, 0, 11, 7, 4, 9, 1, 10, 14, 3, 5, 12, 2, 15, 8, 6],\n",
        "\t\t\t[1, 4, 11, 13, 12, 3, 7, 14, 10, 15, 6, 8, 0, 5, 9, 2],\n",
        "\t\t\t[6, 11, 13, 8, 1, 4, 10, 7, 9, 5, 0, 15, 14, 2, 3, 12] ],\n",
        "\t\t\n",
        "\t\t[ [13, 2, 8, 4, 6, 15, 11, 1, 10, 9, 3, 14, 5, 0, 12, 7],\n",
        "\t\t\t[1, 15, 13, 8, 10, 3, 7, 4, 12, 5, 6, 11, 0, 14, 9, 2],\n",
        "\t\t\t[7, 11, 4, 1, 9, 12, 14, 2, 0, 6, 10, 13, 15, 3, 5, 8],\n",
        "\t\t\t[2, 1, 14, 7, 4, 10, 8, 13, 15, 12, 9, 0, 3, 5, 6, 11] ] ]\n",
        "\n",
        "# Final Permutation Table\n",
        "final_perm = [ 40, 8, 48, 16, 56, 24, 64, 32,\n",
        "\t\t\t39, 7, 47, 15, 55, 23, 63, 31,\n",
        "\t\t\t38, 6, 46, 14, 54, 22, 62, 30,\n",
        "\t\t\t37, 5, 45, 13, 53, 21, 61, 29,\n",
        "\t\t\t36, 4, 44, 12, 52, 20, 60, 28,\n",
        "\t\t\t35, 3, 43, 11, 51, 19, 59, 27,\n",
        "\t\t\t34, 2, 42, 10, 50, 18, 58, 26,\n",
        "\t\t\t33, 1, 41, 9, 49, 17, 57, 25 ]\n",
        "\n",
        "def encrypt(pt, rkb, rk):\n",
        "\tpt = hex2bin(pt)\n",
        "\t\n",
        "\t# Initial Permutation\n",
        "\tpt = permute(pt, initial_perm, 64)\n",
        "\tprint(\"After initial permutation\", bin2hex(pt))\n",
        "\t\n",
        "\t# Splitting\n",
        "\tleft = pt[0:32]\n",
        "\tright = pt[32:64]\n",
        "\tfor i in range(0, 16):\n",
        "\t\t# Expansion D-box: Expanding the 32 bits data into 48 bits\n",
        "\t\tright_expanded = permute(right, exp_d, 48)\n",
        "\t\t\n",
        "\t\t# XOR RoundKey[i] and right_expanded\n",
        "\t\txor_x = xor(right_expanded, rkb[i])\n",
        "\n",
        "\t\t# S-boxex: substituting the value from s-box table by calculating row and column\n",
        "\t\tsbox_str = \"\"\n",
        "\t\tfor j in range(0, 8):\n",
        "\t\t\trow = bin2dec(int(xor_x[j * 6] + xor_x[j * 6 + 5]))\n",
        "\t\t\tcol = bin2dec(int(xor_x[j * 6 + 1] + xor_x[j * 6 + 2] + xor_x[j * 6 + 3] + xor_x[j * 6 + 4]))\n",
        "\t\t\tval = sbox[j][row][col]\n",
        "\t\t\tsbox_str = sbox_str + dec2bin(val)\n",
        "\t\t\t\n",
        "\t\t# Straight D-box: After substituting rearranging the bits\n",
        "\t\tsbox_str = permute(sbox_str, per, 32)\n",
        "\t\t\n",
        "\t\t# XOR left and sbox_str\n",
        "\t\tresult = xor(left, sbox_str)\n",
        "\t\tleft = result\n",
        "\t\t\n",
        "\t\t# Swapper\n",
        "\t\tif(i != 15):\n",
        "\t\t\tleft, right = right, left\n",
        "\t\tprint(\"Round \", i + 1, \" \", bin2hex(left), \" \", bin2hex(right), \" \", rk[i])\n",
        "\t\n",
        "\t# Combination\n",
        "\tcombine = left + right\n",
        "\t\n",
        "\t# Final permutation: final rearranging of bits to get cipher text\n",
        "\tcipher_text = permute(combine, final_perm, 64)\n",
        "\treturn cipher_text\n",
        "\n",
        "pt = \"123456ABCD132536\"\n",
        "key = \"AABB09182736CCDD\"\n",
        "\n",
        "# Key generation\n",
        "# --hex to binary\n",
        "key = hex2bin(key)\n",
        "\n",
        "# --parity bit drop table\n",
        "keyp = [57, 49, 41, 33, 25, 17, 9,\n",
        "\t\t1, 58, 50, 42, 34, 26, 18,\n",
        "\t\t10, 2, 59, 51, 43, 35, 27,\n",
        "\t\t19, 11, 3, 60, 52, 44, 36,\n",
        "\t\t63, 55, 47, 39, 31, 23, 15,\n",
        "\t\t7, 62, 54, 46, 38, 30, 22,\n",
        "\t\t14, 6, 61, 53, 45, 37, 29,\n",
        "\t\t21, 13, 5, 28, 20, 12, 4 ]\n",
        "\n",
        "# getting 56 bit key from 64 bit using the parity bits\n",
        "key = permute(key, keyp, 56)\n",
        "\n",
        "# Number of bit shifts\n",
        "shift_table = [1, 1, 2, 2,\n",
        "\t\t\t\t2, 2, 2, 2,\n",
        "\t\t\t\t1, 2, 2, 2,\n",
        "\t\t\t\t2, 2, 2, 1 ]\n",
        "\n",
        "# Key- Compression Table : Compression of key from 56 bits to 48 bits\n",
        "key_comp = [14, 17, 11, 24, 1, 5,\n",
        "\t\t\t3, 28, 15, 6, 21, 10,\n",
        "\t\t\t23, 19, 12, 4, 26, 8,\n",
        "\t\t\t16, 7, 27, 20, 13, 2,\n",
        "\t\t\t41, 52, 31, 37, 47, 55,\n",
        "\t\t\t30, 40, 51, 45, 33, 48,\n",
        "\t\t\t44, 49, 39, 56, 34, 53,\n",
        "\t\t\t46, 42, 50, 36, 29, 32 ]\n",
        "\n",
        "# Splitting\n",
        "left = key[0:28] # rkb for RoundKeys in binary\n",
        "right = key[28:56] # rk for RoundKeys in hexadecimal\n",
        "\n",
        "rkb = []\n",
        "rk = []\n",
        "for i in range(0, 16):\n",
        "\t# Shifting the bits by nth shifts by checking from shift table\n",
        "\tleft = shift_left(left, shift_table[i])\n",
        "\tright = shift_left(right, shift_table[i])\n",
        "\t\n",
        "\t# Combination of left and right string\n",
        "\tcombine_str = left + right\n",
        "\t\n",
        "\t# Compression of key from 56 to 48 bits\n",
        "\tround_key = permute(combine_str, key_comp, 48)\n",
        "\n",
        "\trkb.append(round_key)\n",
        "\trk.append(bin2hex(round_key))\n",
        "\n",
        "print(\"Encryption\")\n",
        "cipher_text = bin2hex(encrypt(pt, rkb, rk))\n",
        "print(\"Cipher Text : \",cipher_text)\n",
        "\n",
        "print(\"Decryption\")\n",
        "rkb_rev = rkb[::-1]\n",
        "rk_rev = rk[::-1]\n",
        "text = bin2hex(encrypt(cipher_text, rkb_rev, rk_rev))\n",
        "print(\"Plain Text : \",text)"
      ],
      "metadata": {
        "colab": {
          "base_uri": "https://localhost:8080/"
        },
        "id": "MfcQQq0dojzZ",
        "outputId": "7ba35444-4852-4c20-cf88-b444d5efbb16"
      },
      "execution_count": null,
      "outputs": [
        {
          "output_type": "stream",
          "name": "stdout",
          "text": [
            "Encryption\n",
            "After initial permutation 14A7D67818CA18AD\n",
            "Round  1   18CA18AD   5A78E394   194CD072DE8C\n",
            "Round  2   5A78E394   4A1210F6   4568581ABCCE\n",
            "Round  3   4A1210F6   B8089591   06EDA4ACF5B5\n",
            "Round  4   B8089591   236779C2   DA2D032B6EE3\n",
            "Round  5   236779C2   A15A4B87   69A629FEC913\n",
            "Round  6   A15A4B87   2E8F9C65   C1948E87475E\n",
            "Round  7   2E8F9C65   A9FC20A3   708AD2DDB3C0\n",
            "Round  8   A9FC20A3   308BEE97   34F822F0C66D\n",
            "Round  9   308BEE97   10AF9D37   84BB4473DCCC\n",
            "Round  10   10AF9D37   6CA6CB20   02765708B5BF\n",
            "Round  11   6CA6CB20   FF3C485F   6D5560AF7CA5\n",
            "Round  12   FF3C485F   22A5963B   C2C1E96A4BF3\n",
            "Round  13   22A5963B   387CCDAA   99C31397C91F\n",
            "Round  14   387CCDAA   BD2DD2AB   251B8BC717D0\n",
            "Round  15   BD2DD2AB   CF26B472   3330C5D9A36D\n",
            "Round  16   19BA9212   CF26B472   181C5D75C66D\n",
            "Cipher Text :  C0B7A8D05F3A829C\n",
            "Decryption\n",
            "After initial permutation 19BA9212CF26B472\n",
            "Round  1   CF26B472   BD2DD2AB   181C5D75C66D\n",
            "Round  2   BD2DD2AB   387CCDAA   3330C5D9A36D\n",
            "Round  3   387CCDAA   22A5963B   251B8BC717D0\n",
            "Round  4   22A5963B   FF3C485F   99C31397C91F\n",
            "Round  5   FF3C485F   6CA6CB20   C2C1E96A4BF3\n",
            "Round  6   6CA6CB20   10AF9D37   6D5560AF7CA5\n",
            "Round  7   10AF9D37   308BEE97   02765708B5BF\n",
            "Round  8   308BEE97   A9FC20A3   84BB4473DCCC\n",
            "Round  9   A9FC20A3   2E8F9C65   34F822F0C66D\n",
            "Round  10   2E8F9C65   A15A4B87   708AD2DDB3C0\n",
            "Round  11   A15A4B87   236779C2   C1948E87475E\n",
            "Round  12   236779C2   B8089591   69A629FEC913\n",
            "Round  13   B8089591   4A1210F6   DA2D032B6EE3\n",
            "Round  14   4A1210F6   5A78E394   06EDA4ACF5B5\n",
            "Round  15   5A78E394   18CA18AD   4568581ABCCE\n",
            "Round  16   14A7D678   18CA18AD   194CD072DE8C\n",
            "Plain Text :  123456ABCD132536\n"
          ]
        }
      ]
    }
  ]
}