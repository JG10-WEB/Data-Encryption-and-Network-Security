{
  "nbformat": 4,
  "nbformat_minor": 0,
  "metadata": {
    "colab": {
      "name": "DENS Expt 9.ipynb",
      "provenance": []
    },
    "kernelspec": {
      "name": "python3",
      "display_name": "Python 3"
    },
    "language_info": {
      "name": "python"
    }
  },
  "cells": [
    {
      "cell_type": "markdown",
      "source": [
        "Name: Jay Goyal\n",
        "\n",
        "Roll No: C017\n",
        "\n",
        "Subject: DENS\n",
        "\n",
        "BTech EXTC\n",
        "\n",
        "Aim: Diffie Hellman Key Exchange Algorithm "
      ],
      "metadata": {
        "id": "E4eJ0fAzCKqf"
      }
    },
    {
      "cell_type": "code",
      "execution_count": null,
      "metadata": {
        "id": "6THn2KSEB-R1"
      },
      "outputs": [],
      "source": [
        "def primitive(x):\n",
        "  primitive_x = []\n",
        "  for i in range(2,x):\n",
        "    for j in range(1,x):\n",
        "      temp = i**j\n",
        "      if temp % x == 1 and j < x-1:  #whichever power is giving mod=1 and value=x-1 \n",
        "        break\n",
        "      elif temp % x == 1 and j == x-1:\n",
        "        primitive_x.append(i)\n",
        "  return(primitive_x)"
      ]
    },
    {
      "cell_type": "code",
      "source": [
        "primitive(19)"
      ],
      "metadata": {
        "colab": {
          "base_uri": "https://localhost:8080/"
        },
        "id": "gTIgpYnAD5oV",
        "outputId": "11a058fe-5e1b-4ec1-9e26-3b35d9ace625"
      },
      "execution_count": null,
      "outputs": [
        {
          "output_type": "execute_result",
          "data": {
            "text/plain": [
              "[2, 3, 10, 13, 14, 15]"
            ]
          },
          "metadata": {},
          "execution_count": 6
        }
      ]
    },
    {
      "cell_type": "code",
      "source": [
        "p = int(input(\"Enter a prime number: \"))\n",
        "print(primitive(p)) #will give the list of the primitive roots for the prime number p"
      ],
      "metadata": {
        "colab": {
          "base_uri": "https://localhost:8080/"
        },
        "id": "YHpWrayhEShm",
        "outputId": "bf6d8f24-9e18-4de6-f04d-623eb7dad388"
      },
      "execution_count": null,
      "outputs": [
        {
          "output_type": "stream",
          "name": "stdout",
          "text": [
            "Enter a prime number: 17\n",
            "[3, 5, 6, 7, 10, 11, 12, 14]\n"
          ]
        }
      ]
    },
    {
      "cell_type": "code",
      "source": [
        "pri_p = int(input(\"Choose a primitive root from the above list: \"))\n",
        "xa = int(input(\"Enter a secret key for a less than {}: \".format(p))) \n",
        "xb = int(input(\"Enter a secret key for b less than {}: \".format(p))) #the value should be less than the prime number 'p'"
      ],
      "metadata": {
        "colab": {
          "base_uri": "https://localhost:8080/"
        },
        "id": "cLvao_weFlm0",
        "outputId": "5675e611-0801-4ec8-b231-c7a0cb830885"
      },
      "execution_count": null,
      "outputs": [
        {
          "name": "stdout",
          "output_type": "stream",
          "text": [
            "Choose a primitive root from the above list: 10\n",
            "Enter a secret key for a less than 17: 7\n",
            "Enter a secret key for b less than 17: 13\n"
          ]
        }
      ]
    },
    {
      "cell_type": "code",
      "source": [
        "ya = (pri_p ** xa) % p\n",
        "yb = (pri_p ** xb) % p\n",
        "print(ya, yb)"
      ],
      "metadata": {
        "colab": {
          "base_uri": "https://localhost:8080/"
        },
        "id": "tuVrVfC1G274",
        "outputId": "a4a36cc7-cc15-4919-8707-5580ff23fb64"
      },
      "execution_count": null,
      "outputs": [
        {
          "output_type": "stream",
          "name": "stdout",
          "text": [
            "5 11\n"
          ]
        }
      ]
    },
    {
      "cell_type": "code",
      "source": [
        "K_a = (yb ** xa) % p\n",
        "K_b = (ya ** xb) % p\n",
        "print(K_a, K_b)"
      ],
      "metadata": {
        "colab": {
          "base_uri": "https://localhost:8080/"
        },
        "id": "8WKpXr9kIZ4t",
        "outputId": "3cf065c5-1927-4f60-a5c1-02369990d999"
      },
      "execution_count": null,
      "outputs": [
        {
          "output_type": "stream",
          "name": "stdout",
          "text": [
            "3 3\n"
          ]
        }
      ]
    },
    {
      "cell_type": "markdown",
      "source": [
        "##Conclusion:\n",
        "\n",
        "The Diﬀie Hellman algorithm works on the principle of session key generation between a pair of users by using their private keys \n",
        "\n",
        "This algorithm is susceptible to Brute-force attack and Man in the middle attack; they may be prevented by choosing a large private key and establishing sender-receiver authentication prior to data transfer respectively"
      ],
      "metadata": {
        "id": "SAYuzXVBS5QP"
      }
    }
  ]
}
