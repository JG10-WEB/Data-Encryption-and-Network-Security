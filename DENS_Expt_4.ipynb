{
  "nbformat": 4,
  "nbformat_minor": 0,
  "metadata": {
    "colab": {
      "name": "DENS Expt 4.ipynb",
      "provenance": []
    },
    "kernelspec": {
      "name": "python3",
      "display_name": "Python 3"
    },
    "language_info": {
      "name": "python"
    }
  },
  "cells": [
    {
      "cell_type": "markdown",
      "source": [
        "Name: Darshil Dhandhukia\n",
        "\n",
        "Roll No: C010\n",
        "\n",
        "Subject: DENS\n",
        "\n",
        "BTech EXTC\n",
        "\n",
        "Aim: Fiestel Cipher"
      ],
      "metadata": {
        "id": "j_3_yiEJj_fe"
      }
    },
    {
      "cell_type": "code",
      "execution_count": null,
      "metadata": {
        "colab": {
          "base_uri": "https://localhost:8080/"
        },
        "id": "WaSOl5uFj9C2",
        "outputId": "d6ecccd0-33ad-4efa-f1ed-690db94e7e44"
      },
      "outputs": [
        {
          "name": "stdout",
          "output_type": "stream",
          "text": [
            "Enter the plaintext: abcdefgh\n"
          ]
        }
      ],
      "source": [
        "plain_text = input(\"Enter the plaintext: \")"
      ]
    },
    {
      "cell_type": "code",
      "source": [
        "i = 0\n",
        "plain_text_number = [] #empty matrix created \n",
        "for j in plain_text: #each character will be taken from plaintext and then the matrix will be populated with the help of this loop\n",
        "  plain_text_number.append(ord(j)) #from this we will get the ascii value of the characters of plaintext.\n",
        "\n",
        "plain_text_number"
      ],
      "metadata": {
        "colab": {
          "base_uri": "https://localhost:8080/"
        },
        "id": "5rbC8fBmoijG",
        "outputId": "562ba0dd-dc81-4d10-d7a5-49f47e0f106b"
      },
      "execution_count": null,
      "outputs": [
        {
          "output_type": "execute_result",
          "data": {
            "text/plain": [
              "[97, 98, 99, 100, 101, 102, 103, 104]"
            ]
          },
          "metadata": {},
          "execution_count": 2
        }
      ]
    },
    {
      "cell_type": "code",
      "source": [
        "plain_text_binary = [format(k,'08b') for k in plain_text_number] #now we convert the ascii values to binary form\n",
        "\n",
        "plain_text_binary = \"\".join(plain_text_binary)\n",
        "plain_text_binary"
      ],
      "metadata": {
        "colab": {
          "base_uri": "https://localhost:8080/",
          "height": 36
        },
        "id": "1nIPuXsIp9Fn",
        "outputId": "9fbbbe63-cf90-4fcf-bd92-11620c37a0c2"
      },
      "execution_count": null,
      "outputs": [
        {
          "output_type": "execute_result",
          "data": {
            "application/vnd.google.colaboratory.intrinsic+json": {
              "type": "string"
            },
            "text/plain": [
              "'0110000101100010011000110110010001100101011001100110011101101000'"
            ]
          },
          "metadata": {},
          "execution_count": 3
        }
      ]
    },
    {
      "cell_type": "code",
      "source": [
        "len_plain_text = len(plain_text_binary) #finding the length of plaintext in binary form because we need to convert it to half length \n",
        "print(len_plain_text)\n",
        "\n",
        "half_length = int(len_plain_text/2)\n",
        "L0 = plain_text_binary[0:half_length]\n",
        "R0 = plain_text_binary[half_length:]\n",
        "\n",
        "print(\"L0: \", L0)\n",
        "print(\"R0: \", R0)"
      ],
      "metadata": {
        "colab": {
          "base_uri": "https://localhost:8080/"
        },
        "id": "7BsR5-6EpUpV",
        "outputId": "6421b9e4-27ee-46ef-d8cc-7472934a6e59"
      },
      "execution_count": null,
      "outputs": [
        {
          "output_type": "stream",
          "name": "stdout",
          "text": [
            "64\n",
            "L0:  01100001011000100110001101100100\n",
            "R0:  01100101011001100110011101101000\n"
          ]
        }
      ]
    },
    {
      "cell_type": "code",
      "source": [
        "import random\n",
        "def key(n):\n",
        "  subkey = \"\"\n",
        "  for i in range(n):\n",
        "    temp = random.randint(0,1)\n",
        "    temp = str(temp)\n",
        "    subkey = subkey + temp\n",
        "  return subkey "
      ],
      "metadata": {
        "id": "ZlrfgVRSsLb5"
      },
      "execution_count": null,
      "outputs": []
    },
    {
      "cell_type": "code",
      "source": [
        "k1 = key(half_length)\n",
        "print(\"Key 1: \", k1)"
      ],
      "metadata": {
        "colab": {
          "base_uri": "https://localhost:8080/"
        },
        "id": "Zsk3rnYWuf6c",
        "outputId": "1f30e2e6-614b-453b-b8be-620f7af6c23c"
      },
      "execution_count": null,
      "outputs": [
        {
          "output_type": "stream",
          "name": "stdout",
          "text": [
            "Key 1:  11110111010100100011011110001010\n"
          ]
        }
      ]
    },
    {
      "cell_type": "code",
      "source": [
        "def exor_op(temp1, temp2): #function made for exor operation \n",
        "  temp = \"\"\n",
        "  len_temp1 = len(temp1)\n",
        "  for i in range(len_temp1):\n",
        "    if temp1[i] == temp2[i]:\n",
        "      temp = temp + \"0\"\n",
        "    else:\n",
        "      temp = temp + \"1\"\n",
        "  \n",
        "  return temp"
      ],
      "metadata": {
        "id": "x_R3fGGgvGLt"
      },
      "execution_count": null,
      "outputs": []
    },
    {
      "cell_type": "code",
      "source": [
        "#1st round of feistel\n",
        "f1 = exor_op(R0, k1)\n",
        "R1 = exor_op(f1, L0)\n",
        "L1 = R0 #left half or round 1 is same as right half of round zero"
      ],
      "metadata": {
        "id": "XKjPq7uhwDKq"
      },
      "execution_count": null,
      "outputs": []
    },
    {
      "cell_type": "code",
      "source": [
        "print(\"L1: \", L1)\n",
        "print(\"R1: \", R1)"
      ],
      "metadata": {
        "colab": {
          "base_uri": "https://localhost:8080/"
        },
        "id": "AnYwAnvSwSBx",
        "outputId": "fd002e17-60cb-432e-f896-43fa333c1d05"
      },
      "execution_count": null,
      "outputs": [
        {
          "output_type": "stream",
          "name": "stdout",
          "text": [
            "L1:  01100101011001100110011101101000\n",
            "R1:  11110011010101100011001110000110\n"
          ]
        }
      ]
    },
    {
      "cell_type": "code",
      "source": [
        "#for round 2\n",
        "k2 = key(half_length)\n",
        "print(\"Key 2: \", k2)"
      ],
      "metadata": {
        "colab": {
          "base_uri": "https://localhost:8080/"
        },
        "id": "kMWBZvVswbZk",
        "outputId": "621ab463-4f96-4aed-924e-2d72a7c8c526"
      },
      "execution_count": null,
      "outputs": [
        {
          "output_type": "stream",
          "name": "stdout",
          "text": [
            "Key 2:  01101010001001011001001110011101\n"
          ]
        }
      ]
    },
    {
      "cell_type": "code",
      "source": [
        "#round 2 of feistel\n",
        "f2 = exor_op(R1, k2)\n",
        "R2 = exor_op(f2, L1) \n",
        "L2 = R1\n",
        "#L2 and R2 are our ciphertexts (assignment we need to do 16 rounds)\n",
        "print(\"L2: \", L2)\n",
        "print(\"R2: \", R2)"
      ],
      "metadata": {
        "colab": {
          "base_uri": "https://localhost:8080/"
        },
        "id": "5-7b9fp2xAZs",
        "outputId": "084058e5-278e-47ce-9a34-3607bb6d8ee4"
      },
      "execution_count": null,
      "outputs": [
        {
          "output_type": "stream",
          "name": "stdout",
          "text": [
            "L2:  11110011010101100011001110000110\n",
            "R2:  11111100000101011100011101110011\n"
          ]
        }
      ]
    },
    {
      "cell_type": "markdown",
      "source": [
        "# Decryption:"
      ],
      "metadata": {
        "id": "tTXXa7i4mu9f"
      }
    },
    {
      "cell_type": "code",
      "source": [
        "LD0 = R2 #left half of decryption round\n",
        "RD0 = L2 #right half of decryption round"
      ],
      "metadata": {
        "id": "rr1ixDFgxNmk"
      },
      "execution_count": null,
      "outputs": []
    },
    {
      "cell_type": "code",
      "source": [
        "fd1 = exor_op(RD0, k2)\n",
        "RD1 = exor_op(fd1, LD0)\n",
        "LD1 = RD0\n",
        "print(\"LD1: \",LD1)\n",
        "print(\"RD1: \",RD1)"
      ],
      "metadata": {
        "colab": {
          "base_uri": "https://localhost:8080/"
        },
        "id": "z2O7fqL4yKIA",
        "outputId": "55dec7bb-91ef-4a58-8a30-bacab3e839b2"
      },
      "execution_count": null,
      "outputs": [
        {
          "output_type": "stream",
          "name": "stdout",
          "text": [
            "LD1:  11110011010101100011001110000110\n",
            "RD1:  01100101011001100110011101101000\n"
          ]
        }
      ]
    },
    {
      "cell_type": "code",
      "source": [
        "fd2 = exor_op(RD1, k1)\n",
        "RD2 = exor_op(fd2, LD1)\n",
        "LD2 = RD1\n",
        "print(\"LD2: \",LD2)\n",
        "print(\"RD2: \",RD2)\n",
        "\n",
        "decrypted_cipher = RD2 + LD2"
      ],
      "metadata": {
        "colab": {
          "base_uri": "https://localhost:8080/"
        },
        "id": "QMM0A-E2ygxr",
        "outputId": "3c173f8e-08a2-48a0-e639-8a32ccab8c31"
      },
      "execution_count": null,
      "outputs": [
        {
          "output_type": "stream",
          "name": "stdout",
          "text": [
            "LD2:  01100101011001100110011101101000\n",
            "RD2:  01100001011000100110001101100100\n"
          ]
        }
      ]
    },
    {
      "cell_type": "code",
      "source": [
        "import binascii #converts binary to ascii\n",
        "#first we need to convert it to int and then binary because it was in string\n",
        "temp3 = int(RD2 + LD2, 2)\n",
        "\n",
        "decrypted_cipher = binascii.unhexlify( '%x' % temp3)\n",
        "\n",
        "print(\"Decrypted ciphertext: \", decrypted_cipher)"
      ],
      "metadata": {
        "colab": {
          "base_uri": "https://localhost:8080/"
        },
        "id": "4orLbBi0zHnz",
        "outputId": "d00d0319-be66-4b72-d481-4a8359cedec1"
      },
      "execution_count": null,
      "outputs": [
        {
          "output_type": "stream",
          "name": "stdout",
          "text": [
            "Decrypted ciphertext:  b'abcdefgh'\n"
          ]
        }
      ]
    },
    {
      "cell_type": "markdown",
      "source": [
        "# Conclusion:\n",
        "\n",
        "Fiestel Cipher is implemented is used for encryption and decryption of the plaintext. 2 rounds with 2 different subkeys are implemented.\n",
        "\n",
        "It is observed that decrypted ciphertext is same as that of plaintext. "
      ],
      "metadata": {
        "id": "VGknohL42d23"
      }
    },
    {
      "cell_type": "markdown",
      "source": [
        "**Repeating the above process for 8 rounds.**"
      ],
      "metadata": {
        "id": "jMPPVbmJf2Ic"
      }
    },
    {
      "cell_type": "code",
      "source": [
        "plain_text = input(\"Enter the plaintext: \")\n",
        "\n",
        "###\n",
        "\n",
        "i = 0\n",
        "plain_text_number = [] #empty matrix created \n",
        "for j in plain_text: #each character will be taken from plaintext and then the matrix will be populated with the help of this loop\n",
        "  plain_text_number.append(ord(j)) #from this we will get the ascii value of the characters of plaintext.\n",
        "\n",
        "plain_text_number\n",
        "\n",
        "####\n",
        "\n",
        "plain_text_binary = [format(k,'08b') for k in plain_text_number] #now we convert the ascii values to binary form\n",
        "\n",
        "plain_text_binary = \"\".join(plain_text_binary)\n",
        "plain_text_binary\n",
        "\n",
        "###\n",
        "\n",
        "len_plain_text = len(plain_text_binary) #finding the length of plaintext in binary form because we need to convert it to half length \n",
        "print(len_plain_text)\n",
        "\n",
        "half_length = int(len_plain_text/2)\n",
        "L0 = plain_text_binary[0:half_length]\n",
        "R0 = plain_text_binary[half_length:]\n",
        "\n",
        "print(\"L0: \", L0)\n",
        "print(\"R0: \", R0)"
      ],
      "metadata": {
        "colab": {
          "base_uri": "https://localhost:8080/"
        },
        "id": "xzfUtDOLH8rr",
        "outputId": "b068f321-cf49-4329-dcd1-6e0e4ce8076a"
      },
      "execution_count": null,
      "outputs": [
        {
          "output_type": "stream",
          "name": "stdout",
          "text": [
            "Enter the plaintext: abcdefgh\n",
            "64\n",
            "L0:  01100001011000100110001101100100\n",
            "R0:  01100101011001100110011101101000\n"
          ]
        }
      ]
    },
    {
      "cell_type": "code",
      "source": [
        "#for round 1\n",
        "k1 = key(half_length)\n",
        "print(\"Key 1: \", k1)\n",
        "\n",
        "#for round 2\n",
        "k2 = key(half_length)\n",
        "print(\"Key 2: \", k2)\n",
        "\n",
        "#for round 3\n",
        "k3 = key(half_length)\n",
        "print(\"Key 3: \", k3)\n",
        "\n",
        "#for round 4\n",
        "k4 = key(half_length)\n",
        "print(\"Key 4: \", k4)\n",
        "\n",
        "#for round 5\n",
        "k5= key(half_length)\n",
        "print(\"Key 5: \", k5)\n",
        "\n",
        "#for round 6\n",
        "k6 = key(half_length)\n",
        "print(\"Key 6: \", k6)\n",
        "\n",
        "#for round 7\n",
        "k7 = key(half_length)\n",
        "print(\"Key 7: \", k7)\n",
        "\n",
        "#for round 8\n",
        "k8 = key(half_length)\n",
        "print(\"Key 8: \", k8)"
      ],
      "metadata": {
        "colab": {
          "base_uri": "https://localhost:8080/"
        },
        "id": "ZciwQXPpKZP6",
        "outputId": "eb73eedf-efb7-49c1-d7ac-4e3dc9f6534b"
      },
      "execution_count": null,
      "outputs": [
        {
          "output_type": "stream",
          "name": "stdout",
          "text": [
            "Key 1:  01001011101010000010010000110110\n",
            "Key 2:  01000111101101010000111000011010\n",
            "Key 3:  11000111001010100100111001110111\n",
            "Key 4:  11101110101011000110000111110100\n",
            "Key 5:  11011001110111101111000111101001\n",
            "Key 6:  11011110101000101101010111110000\n",
            "Key 7:  01010111011011100110101011101010\n",
            "Key 8:  11001000101111000111000011110000\n"
          ]
        }
      ]
    },
    {
      "cell_type": "code",
      "source": [
        "#1st round of feistel\n",
        "f1 = exor_op(R0, k1)\n",
        "R1 = exor_op(f1, L0)\n",
        "L1 = R0 #left half or round 1 is same as right half of round zero\n",
        "\n",
        "print(\"L1: \", L1)\n",
        "print(\"R1: \", R1)"
      ],
      "metadata": {
        "colab": {
          "base_uri": "https://localhost:8080/"
        },
        "id": "xvqaacfZJq29",
        "outputId": "7267c90b-5cfd-4094-fa10-9edafac9a02f"
      },
      "execution_count": null,
      "outputs": [
        {
          "output_type": "stream",
          "name": "stdout",
          "text": [
            "L1:  01100101011001100110011101101000\n",
            "R1:  01001111101011000010000000111010\n"
          ]
        }
      ]
    },
    {
      "cell_type": "code",
      "source": [
        "#round 2 of feistel\n",
        "f2 = exor_op(R1, k2)\n",
        "R2 = exor_op(f2, L1) \n",
        "L2 = R1\n",
        "#L2 and R2 are our ciphertexts (assignment we need to do 16 rounds)\n",
        "print(\"L2: \", L2)\n",
        "print(\"R2: \", R2)"
      ],
      "metadata": {
        "colab": {
          "base_uri": "https://localhost:8080/"
        },
        "id": "P0j0CqVeJqvb",
        "outputId": "8110c63e-f434-4277-922a-8709422a54a7"
      },
      "execution_count": null,
      "outputs": [
        {
          "output_type": "stream",
          "name": "stdout",
          "text": [
            "L2:  01001111101011000010000000111010\n",
            "R2:  01101101011111110100100101001000\n"
          ]
        }
      ]
    },
    {
      "cell_type": "code",
      "source": [
        "#round 3 of feistel\n",
        "f3 = exor_op(R2, k3)\n",
        "R3 = exor_op(f3, L2) \n",
        "L3 = R2\n",
        "#L3 and R3 are our ciphertexts \n",
        "print(\"L3: \", L3)\n",
        "print(\"R3: \", R3)"
      ],
      "metadata": {
        "colab": {
          "base_uri": "https://localhost:8080/"
        },
        "id": "sME97N3Xnn2f",
        "outputId": "d1238e1a-6cdf-4475-97f1-a7c25cde2d9b"
      },
      "execution_count": null,
      "outputs": [
        {
          "output_type": "stream",
          "name": "stdout",
          "text": [
            "L3:  01101101011111110100100101001000\n",
            "R3:  11100101111110010010011100000101\n"
          ]
        }
      ]
    },
    {
      "cell_type": "code",
      "source": [
        "#round 4 of feistel\n",
        "f4 = exor_op(R3, k4)\n",
        "R4 = exor_op(f4, L3) \n",
        "L4 = R3\n",
        "#L4 and R4 are our ciphertexts \n",
        "print(\"L4: \", L4)\n",
        "print(\"R4: \", R4)"
      ],
      "metadata": {
        "colab": {
          "base_uri": "https://localhost:8080/"
        },
        "id": "Mup0DSlHn0n2",
        "outputId": "deccb091-19a2-42ff-ccc3-042b162825ef"
      },
      "execution_count": null,
      "outputs": [
        {
          "output_type": "stream",
          "name": "stdout",
          "text": [
            "L4:  11100101111110010010011100000101\n",
            "R4:  01100110001010100000111110111001\n"
          ]
        }
      ]
    },
    {
      "cell_type": "code",
      "source": [
        "#round 5 of feistel\n",
        "f5 = exor_op(R4, k5)\n",
        "R5 = exor_op(f5, L4) \n",
        "L5 = R4\n",
        "#L5 and R5 are our ciphertexts \n",
        "print(\"L5: \", L5)\n",
        "print(\"R5: \", R5)"
      ],
      "metadata": {
        "colab": {
          "base_uri": "https://localhost:8080/"
        },
        "id": "MXukZpA0oErz",
        "outputId": "0a1b476c-2c2c-41d2-a198-a99db6555985"
      },
      "execution_count": null,
      "outputs": [
        {
          "output_type": "stream",
          "name": "stdout",
          "text": [
            "L5:  01100110001010100000111110111001\n",
            "R5:  01011010000011011101100101010101\n"
          ]
        }
      ]
    },
    {
      "cell_type": "code",
      "source": [
        "#round 6 of feistel\n",
        "f6 = exor_op(R5, k6)\n",
        "R6 = exor_op(f6, L5) \n",
        "L6 = R5\n",
        "#L6 and R6 are our ciphertexts \n",
        "print(\"L6: \", L6)\n",
        "print(\"R6: \", R6)"
      ],
      "metadata": {
        "colab": {
          "base_uri": "https://localhost:8080/"
        },
        "id": "KK-slm17oZvW",
        "outputId": "1e412b67-6ff0-46ff-ebb3-b6b98edce2c5"
      },
      "execution_count": null,
      "outputs": [
        {
          "output_type": "stream",
          "name": "stdout",
          "text": [
            "L6:  01011010000011011101100101010101\n",
            "R6:  11100010100001010000001100011100\n"
          ]
        }
      ]
    },
    {
      "cell_type": "code",
      "source": [
        "#round 7 of feistel\n",
        "f7 = exor_op(R6, k7)\n",
        "R7 = exor_op(f7, L6) \n",
        "L7 = R6\n",
        "#L7 and R7 are our ciphertexts \n",
        "print(\"L7: \", L7)\n",
        "print(\"R7: \", R7)"
      ],
      "metadata": {
        "colab": {
          "base_uri": "https://localhost:8080/"
        },
        "id": "7PEkLw6YokYW",
        "outputId": "7481be4f-0b80-41f2-d978-ab3326cb0464"
      },
      "execution_count": null,
      "outputs": [
        {
          "output_type": "stream",
          "name": "stdout",
          "text": [
            "L7:  11100010100001010000001100011100\n",
            "R7:  11101111111001101011000010100011\n"
          ]
        }
      ]
    },
    {
      "cell_type": "code",
      "source": [
        "#round 8 of feistel\n",
        "f8 = exor_op(R7, k8)\n",
        "R8 = exor_op(f8, L7) \n",
        "L8 = R7\n",
        "#L8 and R8 are our ciphertexts \n",
        "print(\"L8: \", L8)\n",
        "print(\"R8: \", R8)"
      ],
      "metadata": {
        "colab": {
          "base_uri": "https://localhost:8080/"
        },
        "id": "td5EvAkIpBag",
        "outputId": "b40760c7-44e7-414d-f15e-06e14b075aae"
      },
      "execution_count": null,
      "outputs": [
        {
          "output_type": "stream",
          "name": "stdout",
          "text": [
            "L8:  11101111111001101011000010100011\n",
            "R8:  11000101110111111100001101001111\n"
          ]
        }
      ]
    },
    {
      "cell_type": "markdown",
      "source": [
        "# Decryption for 8 rounds of Feistel"
      ],
      "metadata": {
        "id": "iRRj_AGOprBa"
      }
    },
    {
      "cell_type": "code",
      "source": [
        "LD0 = R2 #left half of decryption round\n",
        "RD0 = L2 #right half of decryption round\n",
        "\n",
        "#for round 1\n",
        "fd1 = exor_op(RD0, k2)\n",
        "RD1 = exor_op(fd1, LD0)\n",
        "LD1 = RD0\n",
        "print(\"LD1: \",LD1)\n",
        "print(\"RD1: \",RD1)\n",
        "\n",
        "#for round 2\n",
        "fd2 = exor_op(RD1, k1)\n",
        "RD2 = exor_op(fd2, LD1)\n",
        "LD2 = RD1\n",
        "print(\"LD2: \",LD2)\n",
        "print(\"RD2: \",RD2)\n",
        "\n",
        "#for round 3\n",
        "fd3 = exor_op(RD2, k2)\n",
        "RD3 = exor_op(fd3, LD2)\n",
        "LD3 = RD2\n",
        "print(\"LD3: \",LD3)\n",
        "print(\"RD3: \",RD3)\n",
        "\n",
        "#for round 4\n",
        "fd4 = exor_op(RD3, k3)\n",
        "RD4 = exor_op(fd4, LD3)\n",
        "LD4 = RD3\n",
        "print(\"LD3: \",LD3)\n",
        "print(\"RD3: \",RD3)\n",
        "\n",
        "#for round 5\n",
        "fd5 = exor_op(RD4, k4)\n",
        "RD5 = exor_op(fd5, LD4)\n",
        "LD5 = RD4\n",
        "print(\"LD5: \",LD5)\n",
        "print(\"RD5: \",RD5)\n",
        "\n",
        "#for round 6\n",
        "fd6 = exor_op(RD5, k5)\n",
        "RD6 = exor_op(fd6, LD5)\n",
        "LD6 = RD5\n",
        "print(\"LD6: \",LD6)\n",
        "print(\"RD6: \",RD6)\n",
        "\n",
        "#for round 7\n",
        "fd7 = exor_op(RD6, k6)\n",
        "RD7 = exor_op(fd7, LD6)\n",
        "LD7 = RD6\n",
        "print(\"LD7: \",LD7)\n",
        "print(\"RD7: \",RD7)\n",
        "\n",
        "#for round 8\n",
        "fd8 = exor_op(RD7, k7)\n",
        "RD8 = exor_op(fd8, LD7)\n",
        "LD8 = RD7\n",
        "print(\"LD8: \",LD8)\n",
        "print(\"RD8: \",RD8)\n",
        "\n",
        "decrypted_cipher = RD8 + LD8"
      ],
      "metadata": {
        "colab": {
          "base_uri": "https://localhost:8080/"
        },
        "id": "qlKM4TqEpPVe",
        "outputId": "253313f5-3f7d-42ec-d33c-dea50f5f8d0a"
      },
      "execution_count": null,
      "outputs": [
        {
          "output_type": "stream",
          "name": "stdout",
          "text": [
            "LD1:  01101111100010010010001100110100\n",
            "RD1:  01100101011001100110011101101000\n",
            "LD2:  01100101011001100110011101101000\n",
            "RD2:  01100001011000100110001101100100\n",
            "LD3:  01100001011000100110001101100100\n",
            "RD3:  01010110000001110010011011101000\n",
            "LD3:  01100001011000100110001101100100\n",
            "RD3:  01010110000001110010011011101000\n",
            "LD5:  11101011011100100000010001111101\n",
            "RD5:  00110100000110011100101010000010\n",
            "LD6:  00110100000110011100101010000010\n",
            "RD6:  01111010101001000111011100010000\n",
            "LD7:  01111010101001000111011100010000\n",
            "RD7:  10101110111001011101101101001000\n",
            "LD8:  10101110111001011101101101001000\n",
            "RD8:  00010000110011010111000111010001\n"
          ]
        }
      ]
    },
    {
      "cell_type": "code",
      "source": [
        "import binascii #converts binary to ascii\n",
        "#first we need to convert it to int and then binary because it was in string\n",
        "temp4 = int(RD8 + LD8, 8)\n",
        "\n",
        "decrypted_cipher = binascii.unhexlify( '%x' % temp4)\n",
        "\n",
        "print(\"Decrypted ciphertext: \", decrypted_cipher)"
      ],
      "metadata": {
        "colab": {
          "base_uri": "https://localhost:8080/"
        },
        "id": "l4f8KxXZ1Orb",
        "outputId": "ed02a575-22de-403a-aaa3-36192d7022f0"
      },
      "execution_count": null,
      "outputs": [
        {
          "output_type": "stream",
          "name": "stdout",
          "text": [
            "Decrypted ciphertext:  b'\\x10\\x00$\\x02A\\x04\\x90\\x01$\\x10\\x01 \\x82H$\\x80A$\\x12\\t\\x04\\x02\\x00'\n"
          ]
        }
      ]
    },
    {
      "cell_type": "markdown",
      "source": [
        "I was not sure about the process so I have just tried this method."
      ],
      "metadata": {
        "id": "TQ4UZ-zBOG4T"
      }
    }
  ]
}