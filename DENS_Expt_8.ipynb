{
  "nbformat": 4,
  "nbformat_minor": 0,
  "metadata": {
    "colab": {
      "name": "DENS Expt 8.ipynb",
      "provenance": [],
      "collapsed_sections": []
    },
    "kernelspec": {
      "name": "python3",
      "display_name": "Python 3"
    },
    "language_info": {
      "name": "python"
    }
  },
  "cells": [
    {
      "cell_type": "markdown",
      "source": [
        "Name: Darshil Dhandhukia\n",
        "\n",
        "Roll No: C010\n",
        "\n",
        "Subject: DENS\n",
        "\n",
        "BTech EXTC\n",
        "\n",
        "Aim: RSA Algorithm (Public Key Encryption)"
      ],
      "metadata": {
        "id": "itEr2nKJ9OXK"
      }
    },
    {
      "cell_type": "code",
      "execution_count": null,
      "metadata": {
        "id": "793oUNRR8g2s"
      },
      "outputs": [],
      "source": [
        "def gcd_numbers(p,q): #we are taking gcd of two numbers\n",
        "  if q == 0: #to find remainder\n",
        "    return p\n",
        "  else:\n",
        "    r = p % q\n",
        "    return gcd_numbers(q,r)"
      ]
    },
    {
      "cell_type": "code",
      "source": [
        "#this code is for multiplicative inverse.\n",
        "def multi_inv(n,a): #n is for mod n value\n",
        "  r1 = n #x column value initialization\n",
        "  r2 = a #y column value initialization\n",
        "  x1 = int(1)\n",
        "  x2 = int(0)\n",
        "  y1 = int(0)\n",
        "  y2 = int(1)\n",
        "\n",
        "  while r2>0: #till the time r2 is non-zero we need to keep dividing\n",
        "    q = r1 // r2 #\"//\" is for floor division, \"q\" is for finding the quotient\n",
        "    r = r1 - (q*r2) #for remainder.\n",
        "    r1 = r2 #from here the next step starts. here we assign r2 value to r1 and the new remainder value to r2.\n",
        "    r2 = r\n",
        "    x = x1 - (q*x2)\n",
        "    x1 = x2\n",
        "    x2 = x\n",
        "    y = y1 - (q*y2)\n",
        "    y1 = y2\n",
        "    y2 = y\n",
        "\n",
        "  if y1<0: #this if loop is used when we get a negative number as the multiplicative inverse.\n",
        "    y1 = y1 % n\n",
        "  return r1, y1"
      ],
      "metadata": {
        "id": "yxOAt2GiAF8r"
      },
      "execution_count": null,
      "outputs": []
    },
    {
      "cell_type": "code",
      "source": [
        "p = int(input(\"Enter 1st prime number: \"))\n",
        "q = int(input(\"Enter 2nd prime number: \"))\n",
        "\n",
        "plain_text = int(input(\"Enter plaintext: \"))\n",
        "\n",
        "#gcd_numbers(p,q)"
      ],
      "metadata": {
        "colab": {
          "base_uri": "https://localhost:8080/"
        },
        "id": "MupPZwWUAxrd",
        "outputId": "eb18f6b8-62fc-422b-af16-54f61127dfcf"
      },
      "execution_count": null,
      "outputs": [
        {
          "name": "stdout",
          "output_type": "stream",
          "text": [
            "Enter 1st prime number: 13\n",
            "Enter 2nd prime number: 19\n",
            "Enter plaintext: 10\n"
          ]
        }
      ]
    },
    {
      "cell_type": "code",
      "source": [
        "n = p*q #euler totient\n",
        "phi_n = (p-1)*(q-1)"
      ],
      "metadata": {
        "id": "LCIjL1JOBfw9"
      },
      "execution_count": null,
      "outputs": []
    },
    {
      "cell_type": "code",
      "source": [
        "phi_n"
      ],
      "metadata": {
        "colab": {
          "base_uri": "https://localhost:8080/"
        },
        "id": "1G9c_rbKCbwd",
        "outputId": "4371ef9e-e545-4b5a-a485-8c3c2a326c4f"
      },
      "execution_count": null,
      "outputs": [
        {
          "output_type": "execute_result",
          "data": {
            "text/plain": [
              "216"
            ]
          },
          "metadata": {},
          "execution_count": 5
        }
      ]
    },
    {
      "cell_type": "code",
      "source": [
        "# Generate encryption key in range 1<e<Pn\n",
        "key= []\n",
        "for i in range(2,phi_n):\n",
        "  gcd_given = gcd_numbers(phi_n,i)\n",
        "  if gcd_given == 1:\n",
        "    key.append(i)\n",
        "\n",
        "print(\"All possible values of encryption key are: \", key)"
      ],
      "metadata": {
        "colab": {
          "base_uri": "https://localhost:8080/"
        },
        "id": "D_iSYaYsBsR6",
        "outputId": "40b5ffef-2238-439c-fa61-d14315ad7d4d"
      },
      "execution_count": null,
      "outputs": [
        {
          "output_type": "stream",
          "name": "stdout",
          "text": [
            "All possible values of encryption key are:  [5, 7, 11, 13, 17, 19, 23, 25, 29, 31, 35, 37, 41, 43, 47, 49, 53, 55, 59, 61, 65, 67, 71, 73, 77, 79, 83, 85, 89, 91, 95, 97, 101, 103, 107, 109, 113, 115, 119, 121, 125, 127, 131, 133, 137, 139, 143, 145, 149, 151, 155, 157, 161, 163, 167, 169, 173, 175, 179, 181, 185, 187, 191, 193, 197, 199, 203, 205, 209, 211, 215]\n"
          ]
        }
      ]
    },
    {
      "cell_type": "code",
      "source": [
        "# Select an encryption key from the above list\n",
        "e= int(input(\"Choose a value for e from the above set: \"))"
      ],
      "metadata": {
        "colab": {
          "base_uri": "https://localhost:8080/"
        },
        "id": "_UdHTUZVC9ga",
        "outputId": "d20f5e93-ccce-4b4d-ec0d-a7709f564fc7"
      },
      "execution_count": null,
      "outputs": [
        {
          "name": "stdout",
          "output_type": "stream",
          "text": [
            "Choose a value for e from the above set: 13\n"
          ]
        }
      ]
    },
    {
      "cell_type": "code",
      "source": [
        "#Obtain inverse of encryption key in Z_Pn\n",
        "r, d = multi_inv(phi_n,e)\n",
        "if r==1:\n",
        "  d=int(d)\n",
        "  print(\"decryption key is: \", d)\n",
        "else:\n",
        "  print(\"Multiplicative inverse for the given encryption key does not exist. Choose a different encrytion key \")"
      ],
      "metadata": {
        "colab": {
          "base_uri": "https://localhost:8080/"
        },
        "id": "mp7pHZlbDk-w",
        "outputId": "a8f5196b-fd3f-42cc-b1f2-8949b7cd5bc9"
      },
      "execution_count": null,
      "outputs": [
        {
          "output_type": "stream",
          "name": "stdout",
          "text": [
            "decryption key is:  133\n"
          ]
        }
      ]
    },
    {
      "cell_type": "code",
      "source": [
        "cipher_text = plain_text ** e\n",
        "cipher_text = cipher_text % n\n",
        "print(\"Cipher text is: \", cipher_text)"
      ],
      "metadata": {
        "colab": {
          "base_uri": "https://localhost:8080/"
        },
        "id": "LDhJY-6pFGFF",
        "outputId": "37da0e02-adb2-4ad0-e7cd-5f0051a32167"
      },
      "execution_count": null,
      "outputs": [
        {
          "output_type": "stream",
          "name": "stdout",
          "text": [
            "Cipher text is:  127\n"
          ]
        }
      ]
    },
    {
      "cell_type": "code",
      "source": [
        "#decrypting the ciphertext\n",
        "decrypted_pt = cipher_text ** d\n",
        "decrypted_pt = decrypted_pt % n\n",
        "print(\"Decrypted plain text is: \", decrypted_pt)"
      ],
      "metadata": {
        "colab": {
          "base_uri": "https://localhost:8080/"
        },
        "id": "avJNORruFsqu",
        "outputId": "4adf6052-0ae4-4624-ce89-bb0037ad76b2"
      },
      "execution_count": null,
      "outputs": [
        {
          "output_type": "stream",
          "name": "stdout",
          "text": [
            "Decrypted plain text is:  10\n"
          ]
        }
      ]
    },
    {
      "cell_type": "markdown",
      "source": [
        "**2nd example**\n",
        "\n",
        "Below I have encrypted the text \"HI\" by converting it to integer values, that is, 8 and 9 respectively. "
      ],
      "metadata": {
        "id": "bgc30RbVsORv"
      }
    },
    {
      "cell_type": "code",
      "source": [
        "p = int(input(\"Enter 1st prime number: \"))\n",
        "q = int(input(\"Enter 2nd prime number: \"))\n",
        "\n",
        "plain_text = int(input(\"Enter plaintext: \"))"
      ],
      "metadata": {
        "colab": {
          "base_uri": "https://localhost:8080/"
        },
        "id": "v2TzIIN30Y5o",
        "outputId": "73c5b1b1-42a9-4f0f-de14-dd91f031dea8"
      },
      "execution_count": null,
      "outputs": [
        {
          "name": "stdout",
          "output_type": "stream",
          "text": [
            "Enter 1st prime number: 53\n",
            "Enter 2nd prime number: 59\n",
            "Enter plaintext: 89\n"
          ]
        }
      ]
    },
    {
      "cell_type": "code",
      "source": [
        "n = p*q #euler totient\n",
        "phi_n = (p-1)*(q-1)\n",
        "\n",
        "phi_n"
      ],
      "metadata": {
        "colab": {
          "base_uri": "https://localhost:8080/"
        },
        "id": "o7TCdtzL0g4y",
        "outputId": "ae2c3cf3-c462-438d-bd3f-c54af7fba9a4"
      },
      "execution_count": null,
      "outputs": [
        {
          "output_type": "execute_result",
          "data": {
            "text/plain": [
              "3016"
            ]
          },
          "metadata": {},
          "execution_count": 33
        }
      ]
    },
    {
      "cell_type": "code",
      "source": [
        "# Generate encryption key in range 1<e<Pn\n",
        "key= []\n",
        "for i in range(2,phi_n):\n",
        "  gcd_given = gcd_numbers(phi_n,i)\n",
        "  if gcd_given == 1:\n",
        "    key.append(i)\n",
        "\n",
        "print(\"All possible values of encryption key are: \", key)"
      ],
      "metadata": {
        "colab": {
          "base_uri": "https://localhost:8080/"
        },
        "id": "a8BevHox0i-i",
        "outputId": "8987caf0-9eda-4877-9409-367580c3572a"
      },
      "execution_count": null,
      "outputs": [
        {
          "output_type": "stream",
          "name": "stdout",
          "text": [
            "All possible values of encryption key are:  [3, 5, 7, 9, 11, 15, 17, 19, 21, 23, 25, 27, 31, 33, 35, 37, 41, 43, 45, 47, 49, 51, 53, 55, 57, 59, 61, 63, 67, 69, 71, 73, 75, 77, 79, 81, 83, 85, 89, 93, 95, 97, 99, 101, 103, 105, 107, 109, 111, 113, 115, 119, 121, 123, 125, 127, 129, 131, 133, 135, 137, 139, 141, 147, 149, 151, 153, 155, 157, 159, 161, 163, 165, 167, 171, 173, 175, 177, 179, 181, 183, 185, 187, 189, 191, 193, 197, 199, 201, 205, 207, 209, 211, 213, 215, 217, 219, 223, 225, 227, 229, 231, 233, 235, 237, 239, 241, 243, 245, 249, 251, 253, 255, 257, 259, 263, 265, 267, 269, 271, 275, 277, 279, 281, 283, 285, 287, 289, 291, 293, 295, 297, 301, 303, 305, 307, 309, 311, 313, 315, 317, 321, 323, 327, 329, 331, 333, 335, 337, 339, 341, 343, 345, 347, 349, 353, 355, 357, 359, 361, 363, 365, 367, 369, 371, 373, 375, 379, 381, 383, 385, 387, 389, 391, 393, 395, 397, 399, 401, 405, 407, 409, 411, 413, 415, 417, 419, 421, 423, 425, 427, 431, 433, 437, 439, 441, 443, 445, 447, 449, 451, 453, 457, 459, 461, 463, 465, 467, 469, 471, 473, 475, 477, 479, 483, 485, 487, 489, 491, 495, 497, 499, 501, 503, 505, 509, 511, 513, 515, 517, 519, 521, 523, 525, 527, 529, 531, 535, 537, 539, 541, 543, 545, 547, 549, 553, 555, 557, 561, 563, 565, 567, 569, 571, 573, 575, 577, 579, 581, 583, 587, 589, 591, 593, 595, 597, 599, 601, 603, 605, 607, 613, 615, 617, 619, 621, 623, 625, 627, 629, 631, 633, 635, 639, 641, 643, 645, 647, 649, 651, 653, 655, 657, 659, 661, 665, 669, 671, 673, 675, 677, 679, 681, 683, 685, 687, 691, 693, 695, 697, 699, 701, 703, 705, 707, 709, 711, 713, 717, 719, 721, 723, 727, 729, 731, 733, 735, 737, 739, 743, 745, 747, 749, 751, 753, 755, 757, 759, 761, 763, 765, 769, 771, 773, 775, 777, 779, 781, 785, 787, 789, 791, 795, 797, 799, 801, 803, 805, 807, 809, 811, 813, 815, 817, 821, 823, 825, 827, 829, 831, 833, 835, 837, 839, 843, 847, 849, 851, 853, 855, 857, 859, 861, 863, 865, 867, 869, 873, 875, 877, 879, 881, 883, 885, 887, 889, 891, 893, 895, 901, 903, 905, 907, 909, 911, 913, 915, 917, 919, 921, 925, 927, 929, 931, 933, 935, 937, 939, 941, 943, 945, 947, 951, 953, 955, 959, 961, 963, 965, 967, 969, 971, 973, 977, 979, 981, 983, 985, 987, 989, 991, 993, 995, 997, 999, 1003, 1005, 1007, 1009, 1011, 1013, 1017, 1019, 1021, 1023, 1025, 1029, 1031, 1033, 1035, 1037, 1039, 1041, 1043, 1045, 1047, 1049, 1051, 1055, 1057, 1059, 1061, 1063, 1065, 1067, 1069, 1071, 1075, 1077, 1081, 1083, 1085, 1087, 1089, 1091, 1093, 1095, 1097, 1099, 1101, 1103, 1107, 1109, 1111, 1113, 1115, 1117, 1119, 1121, 1123, 1125, 1127, 1129, 1133, 1135, 1137, 1139, 1141, 1143, 1145, 1147, 1149, 1151, 1153, 1155, 1159, 1161, 1163, 1165, 1167, 1169, 1171, 1173, 1175, 1177, 1179, 1181, 1185, 1187, 1191, 1193, 1195, 1197, 1199, 1201, 1203, 1205, 1207, 1211, 1213, 1215, 1217, 1219, 1221, 1223, 1225, 1227, 1229, 1231, 1233, 1237, 1239, 1241, 1243, 1245, 1249, 1251, 1253, 1255, 1257, 1259, 1263, 1265, 1267, 1269, 1271, 1273, 1275, 1277, 1279, 1281, 1283, 1285, 1289, 1291, 1293, 1295, 1297, 1299, 1301, 1303, 1307, 1309, 1311, 1315, 1317, 1319, 1321, 1323, 1325, 1327, 1329, 1331, 1333, 1335, 1337, 1341, 1343, 1345, 1347, 1349, 1351, 1353, 1355, 1357, 1359, 1361, 1367, 1369, 1371, 1373, 1375, 1377, 1379, 1381, 1383, 1385, 1387, 1389, 1393, 1395, 1397, 1399, 1401, 1403, 1405, 1407, 1409, 1411, 1413, 1415, 1419, 1423, 1425, 1427, 1429, 1431, 1433, 1435, 1437, 1439, 1441, 1445, 1447, 1449, 1451, 1453, 1455, 1457, 1459, 1461, 1463, 1465, 1467, 1471, 1473, 1475, 1477, 1481, 1483, 1485, 1487, 1489, 1491, 1493, 1497, 1499, 1501, 1503, 1505, 1507, 1509, 1511, 1513, 1515, 1517, 1519, 1523, 1525, 1527, 1529, 1531, 1533, 1535, 1539, 1541, 1543, 1545, 1549, 1551, 1553, 1555, 1557, 1559, 1561, 1563, 1565, 1567, 1569, 1571, 1575, 1577, 1579, 1581, 1583, 1585, 1587, 1589, 1591, 1593, 1597, 1601, 1603, 1605, 1607, 1609, 1611, 1613, 1615, 1617, 1619, 1621, 1623, 1627, 1629, 1631, 1633, 1635, 1637, 1639, 1641, 1643, 1645, 1647, 1649, 1655, 1657, 1659, 1661, 1663, 1665, 1667, 1669, 1671, 1673, 1675, 1679, 1681, 1683, 1685, 1687, 1689, 1691, 1693, 1695, 1697, 1699, 1701, 1705, 1707, 1709, 1713, 1715, 1717, 1719, 1721, 1723, 1725, 1727, 1731, 1733, 1735, 1737, 1739, 1741, 1743, 1745, 1747, 1749, 1751, 1753, 1757, 1759, 1761, 1763, 1765, 1767, 1771, 1773, 1775, 1777, 1779, 1783, 1785, 1787, 1789, 1791, 1793, 1795, 1797, 1799, 1801, 1803, 1805, 1809, 1811, 1813, 1815, 1817, 1819, 1821, 1823, 1825, 1829, 1831, 1835, 1837, 1839, 1841, 1843, 1845, 1847, 1849, 1851, 1853, 1855, 1857, 1861, 1863, 1865, 1867, 1869, 1871, 1873, 1875, 1877, 1879, 1881, 1883, 1887, 1889, 1891, 1893, 1895, 1897, 1899, 1901, 1903, 1905, 1907, 1909, 1913, 1915, 1917, 1919, 1921, 1923, 1925, 1927, 1929, 1931, 1933, 1935, 1939, 1941, 1945, 1947, 1949, 1951, 1953, 1955, 1957, 1959, 1961, 1965, 1967, 1969, 1971, 1973, 1975, 1977, 1979, 1981, 1983, 1985, 1987, 1991, 1993, 1995, 1997, 1999, 2003, 2005, 2007, 2009, 2011, 2013, 2017, 2019, 2021, 2023, 2025, 2027, 2029, 2031, 2033, 2035, 2037, 2039, 2043, 2045, 2047, 2049, 2051, 2053, 2055, 2057, 2061, 2063, 2065, 2069, 2071, 2073, 2075, 2077, 2079, 2081, 2083, 2085, 2087, 2089, 2091, 2095, 2097, 2099, 2101, 2103, 2105, 2107, 2109, 2111, 2113, 2115, 2121, 2123, 2125, 2127, 2129, 2131, 2133, 2135, 2137, 2139, 2141, 2143, 2147, 2149, 2151, 2153, 2155, 2157, 2159, 2161, 2163, 2165, 2167, 2169, 2173, 2177, 2179, 2181, 2183, 2185, 2187, 2189, 2191, 2193, 2195, 2199, 2201, 2203, 2205, 2207, 2209, 2211, 2213, 2215, 2217, 2219, 2221, 2225, 2227, 2229, 2231, 2235, 2237, 2239, 2241, 2243, 2245, 2247, 2251, 2253, 2255, 2257, 2259, 2261, 2263, 2265, 2267, 2269, 2271, 2273, 2277, 2279, 2281, 2283, 2285, 2287, 2289, 2293, 2295, 2297, 2299, 2303, 2305, 2307, 2309, 2311, 2313, 2315, 2317, 2319, 2321, 2323, 2325, 2329, 2331, 2333, 2335, 2337, 2339, 2341, 2343, 2345, 2347, 2351, 2355, 2357, 2359, 2361, 2363, 2365, 2367, 2369, 2371, 2373, 2375, 2377, 2381, 2383, 2385, 2387, 2389, 2391, 2393, 2395, 2397, 2399, 2401, 2403, 2409, 2411, 2413, 2415, 2417, 2419, 2421, 2423, 2425, 2427, 2429, 2433, 2435, 2437, 2439, 2441, 2443, 2445, 2447, 2449, 2451, 2453, 2455, 2459, 2461, 2463, 2467, 2469, 2471, 2473, 2475, 2477, 2479, 2481, 2485, 2487, 2489, 2491, 2493, 2495, 2497, 2499, 2501, 2503, 2505, 2507, 2511, 2513, 2515, 2517, 2519, 2521, 2525, 2527, 2529, 2531, 2533, 2537, 2539, 2541, 2543, 2545, 2547, 2549, 2551, 2553, 2555, 2557, 2559, 2563, 2565, 2567, 2569, 2571, 2573, 2575, 2577, 2579, 2583, 2585, 2589, 2591, 2593, 2595, 2597, 2599, 2601, 2603, 2605, 2607, 2609, 2611, 2615, 2617, 2619, 2621, 2623, 2625, 2627, 2629, 2631, 2633, 2635, 2637, 2641, 2643, 2645, 2647, 2649, 2651, 2653, 2655, 2657, 2659, 2661, 2663, 2667, 2669, 2671, 2673, 2675, 2677, 2679, 2681, 2683, 2685, 2687, 2689, 2693, 2695, 2699, 2701, 2703, 2705, 2707, 2709, 2711, 2713, 2715, 2719, 2721, 2723, 2725, 2727, 2729, 2731, 2733, 2735, 2737, 2739, 2741, 2745, 2747, 2749, 2751, 2753, 2757, 2759, 2761, 2763, 2765, 2767, 2771, 2773, 2775, 2777, 2779, 2781, 2783, 2785, 2787, 2789, 2791, 2793, 2797, 2799, 2801, 2803, 2805, 2807, 2809, 2811, 2815, 2817, 2819, 2823, 2825, 2827, 2829, 2831, 2833, 2835, 2837, 2839, 2841, 2843, 2845, 2849, 2851, 2853, 2855, 2857, 2859, 2861, 2863, 2865, 2867, 2869, 2875, 2877, 2879, 2881, 2883, 2885, 2887, 2889, 2891, 2893, 2895, 2897, 2901, 2903, 2905, 2907, 2909, 2911, 2913, 2915, 2917, 2919, 2921, 2923, 2927, 2931, 2933, 2935, 2937, 2939, 2941, 2943, 2945, 2947, 2949, 2953, 2955, 2957, 2959, 2961, 2963, 2965, 2967, 2969, 2971, 2973, 2975, 2979, 2981, 2983, 2985, 2989, 2991, 2993, 2995, 2997, 2999, 3001, 3005, 3007, 3009, 3011, 3013, 3015]\n"
          ]
        }
      ]
    },
    {
      "cell_type": "code",
      "source": [
        "# Select an encryption key from the above list\n",
        "e= int(input(\"Choose a value for e from the above set: \"))"
      ],
      "metadata": {
        "colab": {
          "base_uri": "https://localhost:8080/"
        },
        "id": "Nv9Ltbzc0laX",
        "outputId": "4e597715-6f24-4d98-9788-6f2588c25b7d"
      },
      "execution_count": null,
      "outputs": [
        {
          "name": "stdout",
          "output_type": "stream",
          "text": [
            "Choose a value for e from the above set: 3\n"
          ]
        }
      ]
    },
    {
      "cell_type": "code",
      "source": [
        "#Obtain inverse of encryption key in Z_Pn\n",
        "r, d = multi_inv(phi_n,e)\n",
        "if r==1:\n",
        "  d=int(d)\n",
        "  print(\"decryption key is: \", d)\n",
        "else:\n",
        "  print(\"Multiplicative inverse for the given encryption key does not exist. Choose a different encrytion key \")"
      ],
      "metadata": {
        "colab": {
          "base_uri": "https://localhost:8080/"
        },
        "id": "QTv6_sJb0qIr",
        "outputId": "c767ee06-9fb6-4e5b-bcdb-960bf0c65451"
      },
      "execution_count": null,
      "outputs": [
        {
          "output_type": "stream",
          "name": "stdout",
          "text": [
            "decryption key is:  2011\n"
          ]
        }
      ]
    },
    {
      "cell_type": "code",
      "source": [
        "cipher_text = plain_text ** e\n",
        "cipher_text = cipher_text % n\n",
        "print(\"Cipher text is: \", cipher_text)"
      ],
      "metadata": {
        "colab": {
          "base_uri": "https://localhost:8080/"
        },
        "id": "nWiA8qXe0rpX",
        "outputId": "c6159b92-fd26-4454-cadf-a3c22154cc0e"
      },
      "execution_count": null,
      "outputs": [
        {
          "output_type": "stream",
          "name": "stdout",
          "text": [
            "Cipher text is:  1394\n"
          ]
        }
      ]
    },
    {
      "cell_type": "code",
      "source": [
        "#decrypting the ciphertext\n",
        "decrypted_pt = cipher_text ** d\n",
        "decrypted_pt = decrypted_pt % n\n",
        "print(\"Decrypted plain text is: \", decrypted_pt)"
      ],
      "metadata": {
        "colab": {
          "base_uri": "https://localhost:8080/"
        },
        "id": "aPLv-mXR0tAZ",
        "outputId": "f7ced68e-0d45-4660-c783-602ade01ab09"
      },
      "execution_count": null,
      "outputs": [
        {
          "output_type": "stream",
          "name": "stdout",
          "text": [
            "Decrypted plain text is:  89\n"
          ]
        }
      ]
    },
    {
      "cell_type": "markdown",
      "source": [
        "##Conclusion:\n",
        "For the given plaintext (10) and public key(13, 216), the ciphertext using RSA algorithm is 127.\n",
        "\n",
        "Ciphertext was decrypted using private key(13, 216), such that the decrypted message is the same as original message.\n",
        "\n",
        "If chosen public key, which should be relatively prime, is not relatively prime to phi(n), then RSA algorithm will not decrypt the ciphertext to the actual message"
      ],
      "metadata": {
        "id": "sqABEu30A5hh"
      }
    }
  ]
}