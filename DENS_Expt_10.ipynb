{
  "nbformat": 4,
  "nbformat_minor": 0,
  "metadata": {
    "colab": {
      "name": "DENS Expt 10.ipynb",
      "provenance": []
    },
    "kernelspec": {
      "name": "python3",
      "display_name": "Python 3"
    },
    "language_info": {
      "name": "python"
    }
  },
  "cells": [
    {
      "cell_type": "markdown",
      "source": [
        "Name: Darshil Dhandhukia\n",
        "\n",
        "Roll No: C010\n",
        "\n",
        "Subject: DENS\n",
        "\n",
        "BTech EXTC\n",
        "\n",
        "Aim: ElGamal Digital Signature"
      ],
      "metadata": {
        "id": "v6SM8XbQTLoD"
      }
    },
    {
      "cell_type": "code",
      "source": [
        "def gcd_numbers(p,q): #we are taking gcd of two numbers\n",
        "  if q == 0: #to find remainder\n",
        "    return p\n",
        "  else:\n",
        "    r = p % q\n",
        "    return gcd_numbers(q,r)"
      ],
      "metadata": {
        "id": "6aZInFLIOAEn"
      },
      "execution_count": null,
      "outputs": []
    },
    {
      "cell_type": "code",
      "execution_count": null,
      "metadata": {
        "id": "BjLnTXbsJo1V"
      },
      "outputs": [],
      "source": [
        "def primitive(x):\n",
        "  primitive_x = []\n",
        "  for i in range(2,x):\n",
        "    for j in range(1,x):\n",
        "      temp = i**j\n",
        "      if temp % x == 1 and j < x-1:  #whichever power is giving mod=1 and value=x-1 \n",
        "        break\n",
        "      elif temp % x == 1 and j == x-1:\n",
        "        primitive_x.append(i)\n",
        "  return(primitive_x)"
      ]
    },
    {
      "cell_type": "code",
      "source": [
        "#this code is for multiplicative inverse.\n",
        "def multi_inv(n,a): #n is for mod n value\n",
        "  r1 = n #x column value initialization\n",
        "  r2 = a #y column value initialization\n",
        "  x1 = int(1)\n",
        "  x2 = int(0)\n",
        "  y1 = int(0)\n",
        "  y2 = int(1)\n",
        "\n",
        "  while r2>0: #till the time r2 is non-zero we need to keep dividing\n",
        "    q = r1 // r2 #\"//\" is for floor division, \"q\" is for finding the quotient\n",
        "    r = r1 - (q*r2) #for remainder.\n",
        "    r1 = r2 #from here the next step starts. here we assign r2 value to r1 and the new remainder value to r2.\n",
        "    r2 = r\n",
        "    x = x1 - (q*x2)\n",
        "    x1 = x2\n",
        "    x2 = x\n",
        "    y = y1 - (q*y2)\n",
        "    y1 = y2\n",
        "    y2 = y\n",
        "\n",
        "  if y1<0: #this if loop is used when we get a negative number as the multiplicative inverse.\n",
        "    y1 = y1 % n\n",
        "  return r1, y1 #r1 will give gcd"
      ],
      "metadata": {
        "id": "P2f0m_qBK9-6"
      },
      "execution_count": null,
      "outputs": []
    },
    {
      "cell_type": "code",
      "source": [
        "q = int(input(\"Enter a prime number: \"))\n",
        "print(primitive(q))\n",
        "a = int(input(\"Ente a primitive root: \"))"
      ],
      "metadata": {
        "colab": {
          "base_uri": "https://localhost:8080/"
        },
        "id": "KRTXb9ypLdoQ",
        "outputId": "790feb98-2501-4fe7-eb60-206bd8f730e8"
      },
      "execution_count": null,
      "outputs": [
        {
          "name": "stdout",
          "output_type": "stream",
          "text": [
            "Enter a prime number: 19\n",
            "[2, 3, 10, 13, 14, 15]\n",
            "Ente a primitive root: 10\n"
          ]
        }
      ]
    },
    {
      "cell_type": "code",
      "source": [
        "#A chooses random number Xa\n",
        "Xa = int(input(\"Enter Xa number (1<Xa<q-1): \"))"
      ],
      "metadata": {
        "colab": {
          "base_uri": "https://localhost:8080/"
        },
        "id": "Q-_TL5fGMIvq",
        "outputId": "fdf08c42-fa08-47e9-cd13-a036dacb79fa"
      },
      "execution_count": null,
      "outputs": [
        {
          "name": "stdout",
          "output_type": "stream",
          "text": [
            "Enter Xa number (1<Xa<q-1): 16\n"
          ]
        }
      ]
    },
    {
      "cell_type": "code",
      "source": [
        "Ya = (a ** Xa) % q\n",
        "print(\"A's private key is (Xa): \", Xa)\n",
        "print(\"A's public key is (q,a,Ya): \",(q,a,Ya))"
      ],
      "metadata": {
        "colab": {
          "base_uri": "https://localhost:8080/"
        },
        "id": "bh3Hm_RcMk1v",
        "outputId": "8db455e9-9af5-428a-a655-310f490b300b"
      },
      "execution_count": null,
      "outputs": [
        {
          "output_type": "stream",
          "name": "stdout",
          "text": [
            "A's private key is (Xa):  16\n",
            "A's public key is (q,a,Ya):  (19, 10, 4)\n"
          ]
        }
      ]
    },
    {
      "cell_type": "code",
      "source": [
        "m = int(input(\"Enter an integer numberm(Hash Code) (0<=m<=q-1): \"))"
      ],
      "metadata": {
        "colab": {
          "base_uri": "https://localhost:8080/"
        },
        "id": "HcYlagyGM-Kl",
        "outputId": "a734ba97-6ff4-4883-c455-ca5bbcefb25e"
      },
      "execution_count": null,
      "outputs": [
        {
          "name": "stdout",
          "output_type": "stream",
          "text": [
            "Enter an integer numberm(Hash Code) (0<=m<=q-1): 14\n"
          ]
        }
      ]
    },
    {
      "cell_type": "code",
      "source": [
        "#signature generation\n",
        "key = []\n",
        "\n",
        "for i in range(2,q-1):\n",
        "  gcd, inv = multi_inv(q-1, i)\n",
        "  if gcd == 1:\n",
        "    key.append(i)\n",
        "print(\"All possible keys: \", key)"
      ],
      "metadata": {
        "colab": {
          "base_uri": "https://localhost:8080/"
        },
        "id": "gwoUFpWRNyUd",
        "outputId": "1cba83d6-a7c3-4c97-c44e-9284ae859ef6"
      },
      "execution_count": null,
      "outputs": [
        {
          "output_type": "stream",
          "name": "stdout",
          "text": [
            "All possible keys:  [5, 7, 11, 13, 17]\n"
          ]
        }
      ]
    },
    {
      "cell_type": "code",
      "source": [
        "k = int(input(\"Enter the key from the list of the keys above: \"))"
      ],
      "metadata": {
        "colab": {
          "base_uri": "https://localhost:8080/"
        },
        "id": "8m7FnlXtP3OE",
        "outputId": "928ebce9-e6ee-432c-aeac-d6414e9f808b"
      },
      "execution_count": null,
      "outputs": [
        {
          "name": "stdout",
          "output_type": "stream",
          "text": [
            "Enter the key from the list of the keys above: 5\n"
          ]
        }
      ]
    },
    {
      "cell_type": "code",
      "source": [
        "S1 = (a ** k) % q #for S1 = a^k mod q\n",
        "temp1, temp = multi_inv(q-1, k) \n",
        "\n",
        "S2 = (temp * (m - (Xa*S1))) % (q-1) #for S2 = k^-1(m-(Xa*S1))\n",
        "\n",
        "print(temp % (q-1))\n",
        "print(\"S1 is: \", S1)\n",
        "print(\"S2 is: \", S2)"
      ],
      "metadata": {
        "colab": {
          "base_uri": "https://localhost:8080/"
        },
        "id": "3EXXR5YERhKV",
        "outputId": "465f9699-d928-4834-db96-77a151bd0628"
      },
      "execution_count": null,
      "outputs": [
        {
          "output_type": "stream",
          "name": "stdout",
          "text": [
            "11\n",
            "S1 is:  3\n",
            "S2 is:  4\n"
          ]
        }
      ]
    },
    {
      "cell_type": "markdown",
      "source": [
        "Receiver side"
      ],
      "metadata": {
        "id": "m4L8FHGWUdd1"
      }
    },
    {
      "cell_type": "code",
      "source": [
        "m_rec = int(input(\"Enter the hash code: \")) #hash code of the received message"
      ],
      "metadata": {
        "colab": {
          "base_uri": "https://localhost:8080/"
        },
        "id": "1_XnL6AfTAHT",
        "outputId": "41928e4a-f8bb-4dca-ff2e-a6c6cd919393"
      },
      "execution_count": null,
      "outputs": [
        {
          "name": "stdout",
          "output_type": "stream",
          "text": [
            "Enter the hash code: 14\n"
          ]
        }
      ]
    },
    {
      "cell_type": "code",
      "source": [
        "V1 = (a**m_rec) % q #formula -> V1 = a^m_rec mod q\n",
        "V2 = ((Ya**S1) * (S1**S2)) % q #formula -> V2 = Ya^S1 * S1^S2 mod q\n",
        "\n",
        "print(\"V1 is: \", V1)\n",
        "print(\"V2 is: \", V2)"
      ],
      "metadata": {
        "colab": {
          "base_uri": "https://localhost:8080/"
        },
        "id": "5YBObjG_UsbW",
        "outputId": "34edbe28-ed43-41c8-a25c-86b7dc9dc3b4"
      },
      "execution_count": null,
      "outputs": [
        {
          "output_type": "stream",
          "name": "stdout",
          "text": [
            "V1 is:  16\n",
            "V2 is:  16\n"
          ]
        }
      ]
    },
    {
      "cell_type": "code",
      "source": [
        "#for checking the integrity of the message, i.e., if the content of the message has not been changed.\n",
        "if V1 == V2:\n",
        "  print(\"Signature is verified, message can be trusted\")\n",
        "else:\n",
        "  print(\"Signature is not verified, message cannot be trusted\")"
      ],
      "metadata": {
        "colab": {
          "base_uri": "https://localhost:8080/"
        },
        "id": "rH50NJRFVPzK",
        "outputId": "07e8b097-bd16-4f87-c343-7aa37d70e19d"
      },
      "execution_count": null,
      "outputs": [
        {
          "output_type": "stream",
          "name": "stdout",
          "text": [
            "Signature is verified, message can be trusted\n"
          ]
        }
      ]
    },
    {
      "cell_type": "markdown",
      "source": [
        "Now we change the hash code on the receiver side"
      ],
      "metadata": {
        "id": "6wP0zDF8Wwnn"
      }
    },
    {
      "cell_type": "code",
      "source": [
        "m_rec = int(input(\"Enter the hash code: \")) #hash code of the received message"
      ],
      "metadata": {
        "colab": {
          "base_uri": "https://localhost:8080/"
        },
        "id": "S0siJByzV08z",
        "outputId": "139e43fb-8461-4e10-f64e-579462f3b4d3"
      },
      "execution_count": null,
      "outputs": [
        {
          "name": "stdout",
          "output_type": "stream",
          "text": [
            "Enter the hash code: 10\n"
          ]
        }
      ]
    },
    {
      "cell_type": "code",
      "source": [
        "V1 = (a**m_rec) % q #formula -> V1 = a^m_rec mod q\n",
        "V2 = ((Ya**S1) * (S1**S2)) % q #formula -> V2 = Ya^S1 * S1^S2 mod q\n",
        "\n",
        "print(\"V1 is: \", V1)\n",
        "print(\"V2 is: \", V2)"
      ],
      "metadata": {
        "colab": {
          "base_uri": "https://localhost:8080/"
        },
        "id": "1IEnYdxlW-X6",
        "outputId": "38d8ef0a-bf1e-438a-9276-29d391b7838d"
      },
      "execution_count": null,
      "outputs": [
        {
          "output_type": "stream",
          "name": "stdout",
          "text": [
            "V1 is:  9\n",
            "V2 is:  16\n"
          ]
        }
      ]
    },
    {
      "cell_type": "code",
      "source": [
        "#for checking the integrity of the message, i.e., if the content of the message has not been changed.\n",
        "if V1 == V2:\n",
        "  print(\"Signature is verified, message can be trusted\")\n",
        "else:\n",
        "  print(\"Signature is not verified, message cannot be trusted\")"
      ],
      "metadata": {
        "colab": {
          "base_uri": "https://localhost:8080/"
        },
        "id": "MNOLyMJ3XDAf",
        "outputId": "d622bb6a-54a0-437a-8012-ab00341cb34f"
      },
      "execution_count": null,
      "outputs": [
        {
          "output_type": "stream",
          "name": "stdout",
          "text": [
            "Signature is not verified, message cannot be trusted\n"
          ]
        }
      ]
    },
    {
      "cell_type": "markdown",
      "source": [
        "##Conclusion:\n",
        "\n",
        "Signature is verified only if the hash code of the transmitted message is equal to the hash code of the received message.\n",
        "\n",
        "This signature scheme uses any prime number, primitive element and secret number, provided the chosen key is relative prime to (prime number - 1)"
      ],
      "metadata": {
        "id": "jJxIVF6vXeJD"
      }
    }
  ]
}