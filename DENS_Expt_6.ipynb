{
  "nbformat": 4,
  "nbformat_minor": 0,
  "metadata": {
    "colab": {
      "name": "DENS Expt 6.ipynb",
      "provenance": []
    },
    "kernelspec": {
      "name": "python3",
      "display_name": "Python 3"
    },
    "language_info": {
      "name": "python"
    }
  },
  "cells": [
    {
      "cell_type": "markdown",
      "source": [
        "Name: Darshil Dhandhukia\n",
        "\n",
        "Roll No: C010\n",
        "\n",
        "Subject: DENS\n",
        "\n",
        "BTech EXTC\n",
        "\n",
        "Aim: AES key expansion"
      ],
      "metadata": {
        "id": "jAAFESQjqCb3"
      }
    },
    {
      "cell_type": "code",
      "execution_count": null,
      "metadata": {
        "id": "sYcHUjFIoUr4"
      },
      "outputs": [],
      "source": [
        "import numpy as np"
      ]
    },
    {
      "cell_type": "code",
      "source": [
        "#we take 3 values in hex.\n",
        "W32 = '0xEAD27321'\n",
        "W33 = '0XB58DBAD2'\n",
        "W34 = '0X312BF560'\n",
        "\n",
        "#W35 (35th word we are n ot adding here because we will treat it differently)"
      ],
      "metadata": {
        "id": "0ffwaab4uUeq"
      },
      "execution_count": null,
      "outputs": []
    },
    {
      "cell_type": "code",
      "source": [
        "W35 = '758D292F' #here we dont add the hex part because we have to eventually remove it.\n",
        "WL = W35[2:] + W35[0:2]\n",
        "print(WL)"
      ],
      "metadata": {
        "colab": {
          "base_uri": "https://localhost:8080/"
        },
        "id": "gQSF039MuvwU",
        "outputId": "0c7aa0ef-b9f1-43cd-fc26-560650676285"
      },
      "execution_count": null,
      "outputs": [
        {
          "output_type": "stream",
          "name": "stdout",
          "text": [
            "8D292F75\n"
          ]
        }
      ]
    },
    {
      "cell_type": "code",
      "source": [
        "#apply substituition using s-box\n",
        "sbox = [\n",
        "        0x63, 0x7c, 0x77, 0x7b, 0xf2, 0x6b, 0x6f, 0xc5, 0x30, 0x01, 0x67, 0x2b, 0xfe, 0xd7, 0xab, 0x76,\n",
        "        0xca, 0x82, 0xc9, 0x7d, 0xfa, 0x59, 0x47, 0xf0, 0xad, 0xd4, 0xa2, 0xaf, 0x9c, 0xa4, 0x72, 0xc0,\n",
        "        0xb7, 0xfd, 0x93, 0x26, 0x36, 0x3f, 0xf7, 0xcc, 0x34, 0xa5, 0xe5, 0xf1, 0x71, 0xd8, 0x31, 0x15,\n",
        "        0x04, 0xc7, 0x23, 0xc3, 0x18, 0x96, 0x05, 0x9a, 0x07, 0x12, 0x80, 0xe2, 0xeb, 0x27, 0xb2, 0x75,\n",
        "        0x09, 0x83, 0x2c, 0x1a, 0x1b, 0x6e, 0x5a, 0xa0, 0x52, 0x3b, 0xd6, 0xb3, 0x29, 0xe3, 0x2f, 0x84,\n",
        "        0x53, 0xd1, 0x00, 0xed, 0x20, 0xfc, 0xb1, 0x5b, 0x6a, 0xcb, 0xbe, 0x39, 0x4a, 0x4c, 0x58, 0xcf,\n",
        "        0xd0, 0xef, 0xaa, 0xfb, 0x43, 0x4d, 0x33, 0x85, 0x45, 0xf9, 0x02, 0x7f, 0x50, 0x3c, 0x9f, 0xa8,\n",
        "        0x51, 0xa3, 0x40, 0x8f, 0x92, 0x9d, 0x38, 0xf5, 0xbc, 0xb6, 0xda, 0x21, 0x10, 0xff, 0xf3, 0xd2,\n",
        "        0xcd, 0x0c, 0x13, 0xec, 0x5f, 0x97, 0x44, 0x17, 0xc4, 0xa7, 0x7e, 0x3d, 0x64, 0x5d, 0x19, 0x73,\n",
        "        0x60, 0x81, 0x4f, 0xdc, 0x22, 0x2a, 0x90, 0x88, 0x46, 0xee, 0xb8, 0x14, 0xde, 0x5e, 0x0b, 0xdb,\n",
        "        0xe0, 0x32, 0x3a, 0x0a, 0x49, 0x06, 0x24, 0x5c, 0xc2, 0xd3, 0xac, 0x62, 0x91, 0x95, 0xe4, 0x79,\n",
        "        0xe7, 0xc8, 0x37, 0x6d, 0x8d, 0xd5, 0x4e, 0xa9, 0x6c, 0x56, 0xf4, 0xea, 0x65, 0x7a, 0xae, 0x08,\n",
        "        0xba, 0x78, 0x25, 0x2e, 0x1c, 0xa6, 0xb4, 0xc6, 0xe8, 0xdd, 0x74, 0x1f, 0x4b, 0xbd, 0x8b, 0x8a,\n",
        "        0x70, 0x3e, 0xb5, 0x66, 0x48, 0x03, 0xf6, 0x0e, 0x61, 0x35, 0x57, 0xb9, 0x86, 0xc1, 0x1d, 0x9e,\n",
        "        0xe1, 0xf8, 0x98, 0x11, 0x69, 0xd9, 0x8e, 0x94, 0x9b, 0x1e, 0x87, 0xe9, 0xce, 0x55, 0x28, 0xdf,\n",
        "        0x8c, 0xa1, 0x89, 0x0d, 0xbf, 0xe6, 0x42, 0x68, 0x41, 0x99, 0x2d, 0x0f, 0xb0, 0x54, 0xbb, 0x16\n",
        "]"
      ],
      "metadata": {
        "id": "4DGeusPFwJ1i"
      },
      "execution_count": null,
      "outputs": []
    },
    {
      "cell_type": "code",
      "source": [
        "WS = '5DA515D2' #substituted key"
      ],
      "metadata": {
        "id": "4HMP7ts5wVPv"
      },
      "execution_count": null,
      "outputs": []
    },
    {
      "cell_type": "code",
      "source": [
        "#create a table for Rcon\n",
        "R = [0x1,0x2,0x4,0x8,0x10,0x20,0x40,0x80,0x1B,0x36] \n",
        "Rcon = R[8]\n",
        "print(hex(Rcon))"
      ],
      "metadata": {
        "colab": {
          "base_uri": "https://localhost:8080/"
        },
        "id": "Daeut02OwnBy",
        "outputId": "74e3df71-4f2d-443d-bc0c-093aac2d0374"
      },
      "execution_count": null,
      "outputs": [
        {
          "output_type": "stream",
          "name": "stdout",
          "text": [
            "0x1b\n"
          ]
        }
      ]
    },
    {
      "cell_type": "code",
      "source": [
        "WS = '0x' + WS\n",
        "print(WS)"
      ],
      "metadata": {
        "colab": {
          "base_uri": "https://localhost:8080/"
        },
        "id": "ITNhOBJzw9D9",
        "outputId": "31b52051-10b1-4902-acbc-686c9479e7f3"
      },
      "execution_count": null,
      "outputs": [
        {
          "output_type": "stream",
          "name": "stdout",
          "text": [
            "0x5DA515D2\n"
          ]
        }
      ]
    },
    {
      "cell_type": "code",
      "source": [
        "#for XORing this we first need to convert it to integers.\n",
        "WS_int = int(WS,16) #here the base is 16\n",
        "WS_int"
      ],
      "metadata": {
        "colab": {
          "base_uri": "https://localhost:8080/"
        },
        "id": "_KNxtnzJxRw4",
        "outputId": "01167b57-dfdf-4e25-aa67-03811432b011"
      },
      "execution_count": null,
      "outputs": [
        {
          "output_type": "execute_result",
          "data": {
            "text/plain": [
              "1571100114"
            ]
          },
          "metadata": {},
          "execution_count": 20
        }
      ]
    },
    {
      "cell_type": "code",
      "source": [
        "Rcon = '0x' + '1B000000'\n",
        "Rcon_int = int(Rcon,16)"
      ],
      "metadata": {
        "id": "ZM9K2LbJx5rk"
      },
      "execution_count": null,
      "outputs": []
    },
    {
      "cell_type": "code",
      "source": [
        "print(hex(WS_int))\n",
        "print(hex(Rcon_int))"
      ],
      "metadata": {
        "colab": {
          "base_uri": "https://localhost:8080/"
        },
        "id": "2F9wwmtWyvVZ",
        "outputId": "b3914853-0abc-4977-8736-2cae6d7e2ee8"
      },
      "execution_count": null,
      "outputs": [
        {
          "output_type": "stream",
          "name": "stdout",
          "text": [
            "0x5da515d2\n",
            "0x1b000000\n"
          ]
        }
      ]
    },
    {
      "cell_type": "code",
      "source": [
        "WS_Rcon = WS_int ^ Rcon_int #here we are doing XOR of both the terms.\n",
        "temp = '{:x}'.format(WS_Rcon)\n",
        "print(temp)"
      ],
      "metadata": {
        "colab": {
          "base_uri": "https://localhost:8080/"
        },
        "id": "w8XghmTIy6t9",
        "outputId": "c275787d-47c0-4490-f092-81724cefb18c"
      },
      "execution_count": null,
      "outputs": [
        {
          "output_type": "stream",
          "name": "stdout",
          "text": [
            "46a515d2\n"
          ]
        }
      ]
    },
    {
      "cell_type": "markdown",
      "source": [
        "WS_Rcon is the output of the g_function."
      ],
      "metadata": {
        "id": "XoDkX1Qh0xzc"
      }
    },
    {
      "cell_type": "code",
      "source": [
        "#Generate W36 as the XOR of W32 and gfunction\n",
        "W32_h = int(W32,16) #since we have written W32 as hex we are converting it into Int.\n",
        "W36 = W32_h ^ WS_Rcon\n",
        "W36_h = '{:x}'.format(W36)\n",
        "print(W36_h)"
      ],
      "metadata": {
        "colab": {
          "base_uri": "https://localhost:8080/"
        },
        "id": "nZVhYS920WFI",
        "outputId": "bbd2500e-1c27-4ab5-bca4-7726369b5ec7"
      },
      "execution_count": null,
      "outputs": [
        {
          "output_type": "stream",
          "name": "stdout",
          "text": [
            "ac7766f3\n"
          ]
        }
      ]
    },
    {
      "cell_type": "code",
      "source": [
        "#Generate W37 as the XOR of W33 and W36\n",
        "W33_h = int(W33,16) \n",
        "W37 = W33_h ^ W36 #here we will use the previous word because it is dependent on it.\n",
        "W37_h = '{:x}'.format(W37)\n",
        "print(W37_h)"
      ],
      "metadata": {
        "colab": {
          "base_uri": "https://localhost:8080/"
        },
        "id": "sxNoJoqa1X48",
        "outputId": "924859f3-7d3f-4a3e-848c-9e82e7e7fc06"
      },
      "execution_count": null,
      "outputs": [
        {
          "output_type": "stream",
          "name": "stdout",
          "text": [
            "19fadc21\n"
          ]
        }
      ]
    },
    {
      "cell_type": "code",
      "source": [
        "#Generate W38 as the XOR of W34 and W37\n",
        "W34_h = int(W34,16) \n",
        "W38 = W34_h ^ W37\n",
        "W38_h = '{:x}'.format(W38)\n",
        "print(W38_h)"
      ],
      "metadata": {
        "colab": {
          "base_uri": "https://localhost:8080/"
        },
        "id": "sCSiQ_0l2T6h",
        "outputId": "91aaf6cd-d051-4b50-b7ff-61ca4c7ea46a"
      },
      "execution_count": null,
      "outputs": [
        {
          "output_type": "stream",
          "name": "stdout",
          "text": [
            "28d12941\n"
          ]
        }
      ]
    },
    {
      "cell_type": "code",
      "source": [
        "#Generate W39 as the XOR of W35 and W38\n",
        "W35_h = int(W35,16) \n",
        "W39 = W35_h ^ W38\n",
        "W39_h = '{:x}'.format(W39)\n",
        "print(W39_h)"
      ],
      "metadata": {
        "colab": {
          "base_uri": "https://localhost:8080/"
        },
        "id": "6PozHGyf2fG0",
        "outputId": "c5b080df-b768-48f0-8841-75472955fecd"
      },
      "execution_count": null,
      "outputs": [
        {
          "output_type": "stream",
          "name": "stdout",
          "text": [
            "5d5c006e\n"
          ]
        }
      ]
    },
    {
      "cell_type": "markdown",
      "source": [
        "# 2nd method"
      ],
      "metadata": {
        "id": "_jcnzTNRTYdC"
      }
    },
    {
      "cell_type": "code",
      "source": [
        "# Previous word assignment\n",
        "W32 = 'EAD27321'\n",
        "W33 = 'B58DBAD2'\n",
        "W34 = '312BF560'\n",
        "W35 = '7F8D292F'"
      ],
      "metadata": {
        "id": "nJTUYFuGTa6G"
      },
      "execution_count": null,
      "outputs": []
    },
    {
      "cell_type": "code",
      "source": [
        "# Function to perform key expansion\n",
        "def key_exp(W32,W33,W34,W35,round_no):\n",
        "    \n",
        "    # Rotation of word\n",
        "    WL = W35[2:] + W35[0:2]\n",
        "    # Adding 0x to the string\n",
        "    W32 = '0x' + W32\n",
        "    W33 = '0x' + W33\n",
        "    W34 = '0x' + W34\n",
        "    \n",
        "    # apply substitution using S-box\n",
        "    # loc assists in indexing the Sbox table\n",
        "    loc = ['0','1','2','3','4','5','6','7','8','9','A','B','C','D','E','F']\n",
        "    Sbox = [\n",
        "            ['0x63', '0x7C', '0x77', '0x7B', '0xF2', '0x6B', '0x6F', '0xC5', '0x30', '0x01', '0x67', '0x2B', '0xFE', '0xD7', '0xAB', '0x76'],\n",
        "            ['0xCA', '0x82', '0xC9', '0x7D', '0xFA', '0x59', '0x47', '0xF0', '0xAD', '0xD4', '0xA2', '0xAF', '0x9C', '0xA4', '0x72', '0xC0'],\n",
        "            ['0xB7', '0xFD', '0x93', '0x26', '0x36', '0x3F', '0xF7', '0xCC', '0x34', '0xA5', '0xE5', '0xF1', '0x71', '0xD8', '0x31', '0x15'],\n",
        "            ['0x04', '0xC7', '0x23', '0xC3', '0x18', '0x96', '0x05', '0x9A', '0x07', '0x12', '0x80', '0xE2', '0xEB', '0x27', '0xB2', '0x75'],\n",
        "            ['0x09', '0x83', '0x2C', '0x1A', '0x1B', '0x6E', '0x5A', '0xA0', '0x52', '0x3B', '0xD6', '0xB3', '0x29', '0xE3', '0x2F', '0x84'],\n",
        "            ['0x53', '0xD1', '0x00', '0xED', '0x20', '0xFC', '0xB1', '0x5B', '0x6A', '0xCB', '0xBE', '0x39', '0x4A', '0x4C', '0x58', '0xCF'],\n",
        "            ['0xD0', '0xEF', '0xAA', '0xFB', '0x43', '0x4D', '0x33', '0x85', '0x45', '0xF9', '0x02', '0x7F', '0x50', '0x3C', '0x9F', '0xA8'],\n",
        "            ['0x51', '0xA3', '0x40', '0x8F', '0x92', '0x9D', '0x38', '0xF5', '0xBC', '0xB6', '0xDA', '0x21', '0x10', '0xFF', '0xF3', '0xD2'],\n",
        "            ['0xCD', '0x0C', '0x13', '0xEC', '0x5F', '0x97', '0x44', '0x17', '0xC4', '0xA7', '0x7E', '0x3D', '0x64', '0x5D', '0x19', '0x73'],\n",
        "            ['0x60', '0x81', '0x4F', '0xDC', '0x22', '0x2A', '0x90', '0x88', '0x46', '0xEE', '0xB8', '0x14', '0xDE', '0x5E', '0x0B', '0xDB'],\n",
        "            ['0xE0', '0x32', '0x3A', '0x0A', '0x49', '0x06', '0x24', '0x5C', '0xC2', '0xD3', '0xAC', '0x62', '0x91', '0x95', '0xE4', '0x79'],\n",
        "            ['0xE7', '0xC8', '0x37', '0x6D', '0x8D', '0xD5', '0x4E', '0xA9', '0x6C', '0x56', '0xF4', '0xEA', '0x65', '0x7A', '0xAE', '0x08'],\n",
        "            ['0xBA', '0x78', '0x25', '0x2E', '0x1C', '0xA6', '0xB4', '0xC6', '0xE8', '0xDD', '0x74', '0x1F', '0x4B', '0xBD', '0x8B', '0x8A'],\n",
        "            ['0x70', '0x3E', '0xB5', '0x66', '0x48', '0x03', '0xF6', '0x0E', '0x61', '0x35', '0x57', '0xB9', '0x86', '0xC1', '0x1D', '0x9E'],\n",
        "            ['0xE1', '0xF8', '0x98', '0x11', '0x69', '0xD9', '0x8E', '0x94', '0x9B', '0x1E', '0x87', '0xE9', '0xCE', '0x55', '0x28', '0xDF'],\n",
        "            ['0x8C', '0xA1', '0x89', '0x0D', '0xBF', '0xE6', '0x42', '0x68', '0x41', '0x99', '0x2D', '0x0F', '0xB0', '0x54', '0xBB', '0x16']\n",
        "    ]\n",
        "    \n",
        "    #Finding the final word after performing Sbox substitution\n",
        "    WS = ''\n",
        "    temp = 0\n",
        "    for i in range(len(WL)//2):\n",
        "        WS = WS + Sbox[loc.index(WL[temp])][loc.index(WL[temp+1])]\n",
        "        temp=temp+2\n",
        "\n",
        "    WS = WS.replace('0x','')\n",
        "    WS = '0x' + WS\n",
        "    \n",
        "    # Rcon value selection as per round number\n",
        "    R = ( '0x01000000', '0x02000000', '0x04000000', '0x08000000', '0x10000000', '0x20000000', '0x40000000', '0x80000000', '0x1B000000', '0x36000000' )\n",
        "    Rcon = R[round_no-1]    \n",
        "    \n",
        "    #Finding Rcon value\n",
        "    WS_int = int(WS,16)\n",
        "    Rcon_int = int(Rcon,16)\n",
        "    WS_Rcon = WS_int ^ Rcon_int\n",
        "    \n",
        "    # Finding words using previous words and Rcon\n",
        "    temp1 = [W32,W33,W34,W35]\n",
        "    temp2 = []\n",
        "    temp3 = WS_Rcon\n",
        "    for i in range(4):\n",
        "        temp3 =  int(temp1[i],16)^ temp3 \n",
        "        temp2.append('{:x}'.format(temp3))\n",
        "    \n",
        "    return(temp2)"
      ],
      "metadata": {
        "id": "pPVoX_NsTeHF"
      },
      "execution_count": null,
      "outputs": []
    },
    {
      "cell_type": "code",
      "source": [
        "x = key_exp(W32,W33,W34,W35,9)\n",
        "print(x)"
      ],
      "metadata": {
        "colab": {
          "base_uri": "https://localhost:8080/"
        },
        "id": "hifnZFcqTgLE",
        "outputId": "4813f9e6-0f03-4f47-f16c-04c0251fe10e"
      },
      "execution_count": null,
      "outputs": [
        {
          "output_type": "stream",
          "name": "stdout",
          "text": [
            "['ac7766f3', '19fadc21', '28d12941', '575c006e']\n"
          ]
        }
      ]
    },
    {
      "cell_type": "markdown",
      "source": [
        "# Conclusion:\n",
        "\n",
        "\n",
        "\n",
        "*   The subkeys for round 9 are generated using the subkeys for round 8.\n",
        "*   Key generation is dependent on Sbox and Rcon tables.\n",
        "\n",
        "*   For round 9, word w36 is dependent on result of g function being applied on W35.\n",
        "*   The remaining subkeys are dependent on the words of round 8 and previously generated word\n"
      ],
      "metadata": {
        "id": "aoCkvieU5EEA"
      }
    }
  ]
}