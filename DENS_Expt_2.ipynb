{
  "nbformat": 4,
  "nbformat_minor": 0,
  "metadata": {
    "colab": {
      "name": "DENS Expt 2.ipynb",
      "provenance": [],
      "collapsed_sections": []
    },
    "kernelspec": {
      "name": "python3",
      "display_name": "Python 3"
    },
    "language_info": {
      "name": "python"
    }
  },
  "cells": [
    {
      "cell_type": "markdown",
      "source": [
        "Name: Darshil Dhandhukia\n",
        "\n",
        "Roll No: C010\n",
        "\n",
        "Subject: DENS\n",
        "\n",
        "BTech EXTC\n",
        "\n",
        "Aim: Columnar Transposition Cipher for the given plaintext and key"
      ],
      "metadata": {
        "id": "A2ARsdBKcw38"
      }
    },
    {
      "cell_type": "code",
      "execution_count": null,
      "metadata": {
        "id": "pH87MD8acv2L"
      },
      "outputs": [],
      "source": [
        "plaintext = \"Python code Data Security\"\n",
        "key = '6723154'"
      ]
    },
    {
      "cell_type": "code",
      "source": [
        "len_p = len(plaintext)\n",
        "len_key = len(key)\n",
        "print(len_p)\n",
        "print(len_key)"
      ],
      "metadata": {
        "colab": {
          "base_uri": "https://localhost:8080/"
        },
        "id": "1KiE8rvdivgo",
        "outputId": "fbd0f4c3-bd74-40fa-e236-9928ce1487a5"
      },
      "execution_count": null,
      "outputs": [
        {
          "output_type": "stream",
          "name": "stdout",
          "text": [
            "25\n",
            "7\n"
          ]
        }
      ]
    },
    {
      "cell_type": "code",
      "source": [
        "if len_p % len_key > 0: #if there is some remainder than they are not integer multiple of each other.\n",
        "  add_numb = len_p % len_key # this will help us know the number of rows\n",
        "  for i in range(add_numb-1):\n",
        "    plaintext = plaintext + 'z'"
      ],
      "metadata": {
        "id": "UseA9hPrjA3o"
      },
      "execution_count": null,
      "outputs": []
    },
    {
      "cell_type": "code",
      "source": [
        "len(plaintext)"
      ],
      "metadata": {
        "colab": {
          "base_uri": "https://localhost:8080/"
        },
        "id": "VZur0mx7kT6Q",
        "outputId": "569b9d56-0e6b-489b-ee89-9570ee3f5669"
      },
      "execution_count": null,
      "outputs": [
        {
          "output_type": "execute_result",
          "data": {
            "text/plain": [
              "28"
            ]
          },
          "metadata": {},
          "execution_count": 6
        }
      ]
    },
    {
      "cell_type": "code",
      "source": [
        "len_plaintext = int(len(plaintext)/len_key) #new length, therefore the number of rows\n",
        "print(len_plaintext)"
      ],
      "metadata": {
        "colab": {
          "base_uri": "https://localhost:8080/"
        },
        "id": "RRdGsBpvkVYZ",
        "outputId": "3a8dc4c0-bf7c-4c51-bbb1-428d4b77a61f"
      },
      "execution_count": null,
      "outputs": [
        {
          "output_type": "stream",
          "name": "stdout",
          "text": [
            "4\n"
          ]
        }
      ]
    },
    {
      "cell_type": "code",
      "source": [
        "plaintext #now the plaintext has 'z' added to it and now we need to convert this plaintext to a matrix format"
      ],
      "metadata": {
        "colab": {
          "base_uri": "https://localhost:8080/",
          "height": 36
        },
        "id": "MhiSx5h7lNf1",
        "outputId": "b322a237-af9d-482a-ae36-6c387bc7e03a"
      },
      "execution_count": null,
      "outputs": [
        {
          "output_type": "execute_result",
          "data": {
            "application/vnd.google.colaboratory.intrinsic+json": {
              "type": "string"
            },
            "text/plain": [
              "'Python code Data Securityzzz'"
            ]
          },
          "metadata": {},
          "execution_count": 8
        }
      ]
    },
    {
      "cell_type": "code",
      "source": [
        "r = 0\n",
        "c = 0\n",
        "plaintext_matrix = [[]] #making a plaintext matrix\n",
        "for location, symbol in enumerate(plaintext): #location will show the location of the plaintext character and symbol will print the charcater from the plaintext.\n",
        "  plaintext_matrix[r].append(symbol) #r represents the row and here r = 0 as initialized before\n",
        "  c = c + 1\n",
        "  if c >= len_key:\n",
        "    c = 0\n",
        "    r = r + 1\n",
        "    if r < len_plaintext:\n",
        "      plaintext_matrix.append([])"
      ],
      "metadata": {
        "id": "h_b1fmyqlQRA"
      },
      "execution_count": null,
      "outputs": []
    },
    {
      "cell_type": "code",
      "source": [
        "plaintext_matrix"
      ],
      "metadata": {
        "colab": {
          "base_uri": "https://localhost:8080/"
        },
        "id": "lkZ63R1_mAq9",
        "outputId": "5a08ecf4-54a8-4a33-db9d-7ca86d1b65ce"
      },
      "execution_count": null,
      "outputs": [
        {
          "output_type": "execute_result",
          "data": {
            "text/plain": [
              "[['P', 'y', 't', 'h', 'o', 'n', ' '],\n",
              " ['c', 'o', 'd', 'e', ' ', 'D', 'a'],\n",
              " ['t', 'a', ' ', 'S', 'e', 'c', 'u'],\n",
              " ['r', 'i', 't', 'y', 'z', 'z', 'z']]"
            ]
          },
          "metadata": {},
          "execution_count": 10
        }
      ]
    },
    {
      "cell_type": "code",
      "source": [
        "len_plain_matrix = len(plaintext_matrix)\n",
        "len_plain_matrix"
      ],
      "metadata": {
        "colab": {
          "base_uri": "https://localhost:8080/"
        },
        "id": "5USGMcZxnC87",
        "outputId": "3193bfe6-57d1-466c-b82c-040e76ec4f2c"
      },
      "execution_count": null,
      "outputs": [
        {
          "output_type": "execute_result",
          "data": {
            "text/plain": [
              "4"
            ]
          },
          "metadata": {},
          "execution_count": 11
        }
      ]
    },
    {
      "cell_type": "code",
      "source": [
        "e_s = [] #sequence of key for encryption\n",
        "for location, number in enumerate(key):\n",
        "  e_s.append(int(number))"
      ],
      "metadata": {
        "id": "eFggEEkkne5A"
      },
      "execution_count": null,
      "outputs": []
    },
    {
      "cell_type": "code",
      "source": [
        "e_s"
      ],
      "metadata": {
        "colab": {
          "base_uri": "https://localhost:8080/"
        },
        "id": "l9iKDioToDWA",
        "outputId": "6074cbf8-9511-4d79-c170-4fbedf2f853e"
      },
      "execution_count": null,
      "outputs": [
        {
          "output_type": "execute_result",
          "data": {
            "text/plain": [
              "[6, 7, 2, 3, 1, 5, 4]"
            ]
          },
          "metadata": {},
          "execution_count": 13
        }
      ]
    },
    {
      "cell_type": "code",
      "source": [
        "#now we generate the ciphertext\n",
        "ciphertext = \"\"\n",
        "for i in range(len_key): #this loop will search for the position of col 1, 2, ..., 7 and then correspondingly take the characters from the position of the e_s's matrix.\n",
        "  position = e_s.index(i+1)\n",
        "  for row in range(len_plain_matrix): #len_plain_matrix will give the number of rows.\n",
        "    ciphertext += plaintext_matrix[row][position] #position is fixed and everything is fixed but row value is not fixed"
      ],
      "metadata": {
        "id": "QF0N8PXJofWJ"
      },
      "execution_count": null,
      "outputs": []
    },
    {
      "cell_type": "code",
      "source": [
        "ciphertext"
      ],
      "metadata": {
        "colab": {
          "base_uri": "https://localhost:8080/",
          "height": 36
        },
        "id": "4pggdtzzp0nB",
        "outputId": "38e4c04f-6e46-4c82-8e75-cd541a7487d5"
      },
      "execution_count": null,
      "outputs": [
        {
          "output_type": "execute_result",
          "data": {
            "application/vnd.google.colaboratory.intrinsic+json": {
              "type": "string"
            },
            "text/plain": [
              "'o eztd theSy auznDczPctryoai'"
            ]
          },
          "metadata": {},
          "execution_count": 15
        }
      ]
    },
    {
      "cell_type": "code",
      "source": [
        "#decryption\n",
        "d_key = '6723154'\n",
        "ciphertext = \"o eztd theSy auznDczPctryoai\""
      ],
      "metadata": {
        "id": "ZdU06y0dp2mD"
      },
      "execution_count": null,
      "outputs": []
    },
    {
      "cell_type": "code",
      "source": [
        "len_d_key = len(d_key)\n",
        "len_d_key"
      ],
      "metadata": {
        "colab": {
          "base_uri": "https://localhost:8080/"
        },
        "id": "Xx2teDhi_ywt",
        "outputId": "a8645773-2b24-4984-aef8-dbf1cab199e6"
      },
      "execution_count": null,
      "outputs": [
        {
          "output_type": "execute_result",
          "data": {
            "text/plain": [
              "7"
            ]
          },
          "metadata": {},
          "execution_count": 17
        }
      ]
    },
    {
      "cell_type": "code",
      "source": [
        "d_s = []\n",
        "for location, number in enumerate(d_key):\n",
        "  d_s.append(int(number))\n",
        "d_s"
      ],
      "metadata": {
        "colab": {
          "base_uri": "https://localhost:8080/"
        },
        "id": "KvlnR5LhrvTF",
        "outputId": "af4e576e-1acf-44f1-e7d8-0e5e6bfc4935"
      },
      "execution_count": null,
      "outputs": [
        {
          "output_type": "execute_result",
          "data": {
            "text/plain": [
              "[6, 7, 2, 3, 1, 5, 4]"
            ]
          },
          "metadata": {},
          "execution_count": 18
        }
      ]
    },
    {
      "cell_type": "code",
      "source": [
        "#now ciphertext need to be converted to matrix and only then we can use our algorithm to decrypt the ciphertext.\n",
        "d_len_key = len(d_key)\n",
        "len_ciphertext = len(ciphertext)\n",
        "d_rows_ciphertext = int(len(ciphertext)/d_len_key) #this helps us in finding the number of rows in the ciphertext.\n",
        "d_rows_ciphertext"
      ],
      "metadata": {
        "colab": {
          "base_uri": "https://localhost:8080/"
        },
        "id": "MIOYVpkrr-Aw",
        "outputId": "b42da1b6-6081-462c-bd0b-31dade200dc4"
      },
      "execution_count": null,
      "outputs": [
        {
          "output_type": "execute_result",
          "data": {
            "text/plain": [
              "4"
            ]
          },
          "metadata": {},
          "execution_count": 19
        }
      ]
    },
    {
      "cell_type": "code",
      "source": [
        "#now we want generate the matrix using the ciphertext\n",
        "#we will fill the matrix row wise\n",
        "#above we have got the ciphertext by column wise method\n",
        "r = 0\n",
        "ciphertext_matrix = [[]]\n",
        "i = 0\n",
        "for i in range(d_rows_ciphertext):\n",
        "  for position in range(i, len_ciphertext, d_rows_ciphertext):\n",
        "    symbol = ciphertext[position]\n",
        "    ciphertext_matrix[r].append(symbol)\n",
        "  r = r + 1\n",
        "  if r < d_rows_ciphertext:\n",
        "    ciphertext_matrix.append([])\n",
        "\n",
        "ciphertext_matrix"
      ],
      "metadata": {
        "colab": {
          "base_uri": "https://localhost:8080/"
        },
        "id": "6yPSE4Ydskx7",
        "outputId": "8c3b953c-ea2c-495d-ec10-03a10486fd1a"
      },
      "execution_count": null,
      "outputs": [
        {
          "output_type": "execute_result",
          "data": {
            "text/plain": [
              "[['o', 't', 'h', ' ', 'n', 'P', 'y'],\n",
              " [' ', 'd', 'e', 'a', 'D', 'c', 'o'],\n",
              " ['e', ' ', 'S', 'u', 'c', 't', 'a'],\n",
              " ['z', 't', 'y', 'z', 'z', 'r', 'i']]"
            ]
          },
          "metadata": {},
          "execution_count": 20
        }
      ]
    },
    {
      "cell_type": "code",
      "source": [
        "#now we retrieve the ciphertext\n",
        "retrieved_text_matrix = [];\n",
        "for i in range(d_rows_ciphertext): \n",
        "  retrieved_text_matrix.append([])\n",
        "\n",
        "for i in range(d_len_key): \n",
        "  col_position = d_s[i] - 1\n",
        "  for j in range(d_rows_ciphertext):\n",
        "    retrieved_text_matrix[j].append(ciphertext_matrix[j][col_position])\n",
        "\n",
        "retrieved_text_matrix"
      ],
      "metadata": {
        "colab": {
          "base_uri": "https://localhost:8080/"
        },
        "id": "MEpGUVMZGFhK",
        "outputId": "ae38b577-94c6-4b1c-a577-d62c3c38044c"
      },
      "execution_count": null,
      "outputs": [
        {
          "output_type": "execute_result",
          "data": {
            "text/plain": [
              "[['P', 'y', 't', 'h', 'o', 'n', ' '],\n",
              " ['c', 'o', 'd', 'e', ' ', 'D', 'a'],\n",
              " ['t', 'a', ' ', 'S', 'e', 'c', 'u'],\n",
              " ['r', 'i', 't', 'y', 'z', 'z', 'z']]"
            ]
          },
          "metadata": {},
          "execution_count": 25
        }
      ]
    },
    {
      "cell_type": "markdown",
      "source": [
        "# Conclusion: \n",
        "\n",
        "In this experiment we have taken a integer key and a message that will be encrypted and decrypted using transposition cipher. The message would be transposed by putting the message into a grid. \n",
        "\n",
        "The grid is completed by padding with spaces. After the grid is created, the cipher text is rendered by reading down the columns in the order dictated by the key.\n",
        "\n",
        "Transposition cipher is considered a weak cipher unless both the key and the message are quite long."
      ],
      "metadata": {
        "id": "7ZeRUlXSq-K8"
      }
    }
  ]
}